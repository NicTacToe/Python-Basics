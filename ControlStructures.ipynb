{
 "cells": [
  {
   "cell_type": "markdown",
   "id": "31fb9b45",
   "metadata": {},
   "source": [
    "# Experiment 3: Control Structures"
   ]
  },
  {
   "cell_type": "markdown",
   "id": "2dc65f12",
   "metadata": {},
   "source": [
    "***"
   ]
  },
  {
   "cell_type": "markdown",
   "id": "f16ab46e",
   "metadata": {},
   "source": [
    "If-Else Statements"
   ]
  },
  {
   "cell_type": "code",
   "execution_count": 1,
   "id": "5fd502e1",
   "metadata": {},
   "outputs": [],
   "source": [
    "name = \"nick\""
   ]
  },
  {
   "cell_type": "code",
   "execution_count": 2,
   "id": "f1dcf0c3",
   "metadata": {},
   "outputs": [
    {
     "name": "stdout",
     "output_type": "stream",
     "text": [
      "Hello, nick!\n"
     ]
    }
   ],
   "source": [
    "if name == \"nick\":\n",
    "    print(\"Hello, nick!\")\n",
    "else :\n",
    "    print(\"Hello, stranger!\")"
   ]
  },
  {
   "cell_type": "code",
   "execution_count": 18,
   "id": "624f45ff",
   "metadata": {},
   "outputs": [],
   "source": [
    "import random\n",
    "temp = random.randint(-10, 40)"
   ]
  },
  {
   "cell_type": "code",
   "execution_count": 19,
   "id": "203a361a",
   "metadata": {},
   "outputs": [
    {
     "name": "stdout",
     "output_type": "stream",
     "text": [
      "It's a nice day\n"
     ]
    }
   ],
   "source": [
    "if temp > 30:\n",
    "    print(\"It's a hot day\")\n",
    "elif temp > 20:\n",
    "    print(\"It's a nice day\")\n",
    "elif temp > 10:\n",
    "    print(\"It's a bit cold\")\n",
    "else:\n",
    "    print(\"It's cold\")"
   ]
  },
  {
   "cell_type": "markdown",
   "id": "09c50e7d",
   "metadata": {},
   "source": [
    "Nested Statements"
   ]
  },
  {
   "cell_type": "code",
   "execution_count": 20,
   "id": "fe45dbc3",
   "metadata": {},
   "outputs": [
    {
     "name": "stdout",
     "output_type": "stream",
     "text": [
      "['nicket', 'green', 18]\n"
     ]
    }
   ],
   "source": [
    "nick = [\"nicket\", \"green\", 18]\n",
    "print(nick)"
   ]
  },
  {
   "cell_type": "code",
   "execution_count": 21,
   "id": "0e4c4d80",
   "metadata": {},
   "outputs": [
    {
     "name": "stdout",
     "output_type": "stream",
     "text": [
      "Hello, nick!\n"
     ]
    }
   ],
   "source": [
    "if nick[0] == \"nicket\":\n",
    "    if nick[1] == \"green\":\n",
    "        if nick[2] == 18:\n",
    "            print(\"Hello, nick!\")"
   ]
  },
  {
   "cell_type": "markdown",
   "id": "d6d3abd9",
   "metadata": {},
   "source": [
    "Match Case"
   ]
  },
  {
   "cell_type": "code",
   "execution_count": 22,
   "id": "4a398b98",
   "metadata": {},
   "outputs": [],
   "source": [
    "fruit = \"apple\""
   ]
  },
  {
   "cell_type": "code",
   "execution_count": 23,
   "id": "52c885af",
   "metadata": {},
   "outputs": [
    {
     "name": "stdout",
     "output_type": "stream",
     "text": [
      "It's red\n"
     ]
    }
   ],
   "source": [
    "match fruit:\n",
    "    case \"apple\":\n",
    "        print(\"It's red\")\n",
    "    case \"banana\":\n",
    "        print(\"It's yellow\")\n",
    "    case \"orange\":\n",
    "        print(\"It's orange\")\n",
    "    case _:\n",
    "        print(\"I don't know lol\")"
   ]
  },
  {
   "cell_type": "code",
   "execution_count": 26,
   "id": "632e0a8a",
   "metadata": {},
   "outputs": [],
   "source": [
    "names = [\"nick\", \"john\", \"mary\", \"sara\"]"
   ]
  },
  {
   "cell_type": "code",
   "execution_count": 27,
   "id": "ef943e7f",
   "metadata": {},
   "outputs": [
    {
     "name": "stdout",
     "output_type": "stream",
     "text": [
      "Hello, nick!\n",
      "Hello, john!\n",
      "Hello, mary!\n",
      "Hello, sara!\n"
     ]
    }
   ],
   "source": [
    "for name in names:\n",
    "  match name:\n",
    "    case \"nick\":\n",
    "      print(\"Hello, nick!\")\n",
    "    case \"john\":\n",
    "      print(\"Hello, john!\")\n",
    "    case \"mary\":\n",
    "      print(\"Hello, mary!\")\n",
    "    case \"sara\":\n",
    "      print(\"Hello, sara!\")\n",
    "    case _:\n",
    "      print(\"Hello, stranger!\")\n",
    "          "
   ]
  },
  {
   "cell_type": "markdown",
   "id": "977a18a9",
   "metadata": {},
   "source": [
    "For Loops"
   ]
  },
  {
   "cell_type": "code",
   "execution_count": 28,
   "id": "f51cc124",
   "metadata": {},
   "outputs": [
    {
     "name": "stdout",
     "output_type": "stream",
     "text": [
      "0\n",
      "1\n",
      "2\n",
      "3\n",
      "4\n"
     ]
    }
   ],
   "source": [
    "for i in range(5):\n",
    "    print(i)"
   ]
  },
  {
   "cell_type": "code",
   "execution_count": 29,
   "id": "c0f4d9f5",
   "metadata": {},
   "outputs": [
    {
     "name": "stdout",
     "output_type": "stream",
     "text": [
      "apple\n",
      "banana\n",
      "orange\n"
     ]
    }
   ],
   "source": [
    "fruits = [\"apple\", \"banana\", \"orange\"]\n",
    "\n",
    "for fruit in fruits:\n",
    "    print(fruit)"
   ]
  },
  {
   "cell_type": "code",
   "execution_count": 30,
   "id": "959b7b71",
   "metadata": {},
   "outputs": [
    {
     "name": "stdout",
     "output_type": "stream",
     "text": [
      "['apple', 'banana', 'orange']\n"
     ]
    }
   ],
   "source": [
    "print(fruits)"
   ]
  },
  {
   "cell_type": "code",
   "execution_count": 39,
   "id": "bc838365",
   "metadata": {},
   "outputs": [
    {
     "name": "stdout",
     "output_type": "stream",
     "text": [
      "\n",
      "* \n",
      "* * \n",
      "* * * \n",
      "* * * * \n"
     ]
    }
   ],
   "source": [
    "for i in range(5):\n",
    "  for j in range(i):\n",
    "    print(\"* \", end = \"\")\n",
    "  print()"
   ]
  },
  {
   "cell_type": "markdown",
   "id": "08cea675",
   "metadata": {},
   "source": [
    "While Loops"
   ]
  },
  {
   "cell_type": "code",
   "execution_count": 40,
   "id": "4ee4b412",
   "metadata": {},
   "outputs": [
    {
     "name": "stdout",
     "output_type": "stream",
     "text": [
      "0\n",
      "1\n",
      "2\n",
      "3\n",
      "4\n"
     ]
    }
   ],
   "source": [
    "i = 0\n",
    "\n",
    "while i < 5:\n",
    "    print(i)\n",
    "    i += 1"
   ]
  },
  {
   "cell_type": "code",
   "execution_count": 41,
   "id": "bdd8c92c",
   "metadata": {},
   "outputs": [
    {
     "name": "stdout",
     "output_type": "stream",
     "text": [
      "mon\n",
      "tue\n",
      "wed\n",
      "thu\n",
      "fri\n",
      "sat\n",
      "sun\n"
     ]
    }
   ],
   "source": [
    "days = [\"mon\", \"tue\", \"wed\", \"thu\", \"fri\", \"sat\", \"sun\"]\n",
    "\n",
    "i = 0\n",
    "while i < len(days):\n",
    "    print(days[i])\n",
    "    i += 1"
   ]
  },
  {
   "cell_type": "code",
   "execution_count": 47,
   "id": "4a6028a1",
   "metadata": {},
   "outputs": [
    {
     "name": "stdout",
     "output_type": "stream",
     "text": [
      "\n",
      "* \n",
      "* * \n",
      "* * * \n",
      "* * * * \n"
     ]
    }
   ],
   "source": [
    "i = 0\n",
    "j = i\n",
    "\n",
    "while i < 5:\n",
    "    while j < i:\n",
    "        print(\"* \", end = \"\")\n",
    "        j += 1\n",
    "    print()\n",
    "    i += 1\n",
    "    j = 0"
   ]
  },
  {
   "cell_type": "markdown",
   "id": "419663ff",
   "metadata": {},
   "source": [
    "Loop Control Statements (break, continue, pass)"
   ]
  },
  {
   "cell_type": "code",
   "execution_count": 48,
   "id": "0bfa312b",
   "metadata": {},
   "outputs": [
    {
     "name": "stdout",
     "output_type": "stream",
     "text": [
      "red\n",
      "green\n",
      "blue\n"
     ]
    }
   ],
   "source": [
    "colors = [\"red\", \"green\", \"blue\", \"yellow\", \"purple\", \"orange\"]\n",
    "\n",
    "for color in colors:\n",
    "    if color == \"yellow\":\n",
    "        break\n",
    "    print(color)"
   ]
  },
  {
   "cell_type": "code",
   "execution_count": 49,
   "id": "cf23825c",
   "metadata": {},
   "outputs": [
    {
     "name": "stdout",
     "output_type": "stream",
     "text": [
      "red\n",
      "green\n",
      "blue\n",
      "purple\n",
      "orange\n"
     ]
    }
   ],
   "source": [
    "for color in colors:\n",
    "    if color == \"yellow\":\n",
    "        continue\n",
    "    print(color)"
   ]
  },
  {
   "cell_type": "code",
   "execution_count": 50,
   "id": "1b5e79b5",
   "metadata": {},
   "outputs": [
    {
     "name": "stdout",
     "output_type": "stream",
     "text": [
      "red\n",
      "green\n",
      "blue\n",
      "yellow\n",
      "purple\n",
      "orange\n"
     ]
    }
   ],
   "source": [
    "for color in colors:\n",
    "    if color == \"yellow\":\n",
    "        pass # Placeholder, does nothing\n",
    "    print(color)"
   ]
  }
 ],
 "metadata": {
  "kernelspec": {
   "display_name": "venv",
   "language": "python",
   "name": "python3"
  },
  "language_info": {
   "codemirror_mode": {
    "name": "ipython",
    "version": 3
   },
   "file_extension": ".py",
   "mimetype": "text/x-python",
   "name": "python",
   "nbconvert_exporter": "python",
   "pygments_lexer": "ipython3",
   "version": "3.13.5"
  }
 },
 "nbformat": 4,
 "nbformat_minor": 5
}
