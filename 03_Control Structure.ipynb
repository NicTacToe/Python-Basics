{
 "cells": [
  {
   "cell_type": "code",
   "execution_count": null,
   "id": "3b2afd22",
   "metadata": {},
   "outputs": [],
   "source": [
    "temprature = 35 \n",
    "if temprature > 30:\n",
    "    print(\"It's a hot day\")\n",
    "    print(\"Drink plenty of water\")\n",
    "elif temprature > 20:\n",
    "    print(\"Its a nice day\")\n",
    "    print(\"Drink plenty of water\")\n",
    "elif temprature > 10:\n",
    "    print(\"Its cold\")\n",
    "print(\"Done\")"
   ]
  },
  {
   "cell_type": "markdown",
   "id": "d40c908e",
   "metadata": {},
   "source": [
    "Exercise"
   ]
  },
  {
   "cell_type": "code",
   "execution_count": null,
   "id": "2859dbde",
   "metadata": {},
   "outputs": [],
   "source": [
    "a=float(input(\"Weight: \"))\n",
    "b=input(\"(k)gs or (l)bs \")\n",
    "b=b.upper()\n",
    "if b==\"K\":\n",
    "    print(\"Weight in pounds:\",a*2.20462)\n",
    "else:\n",
    "    print('Weight in kgs: ',a/2.20462)"
   ]
  }
 ],
 "metadata": {
  "language_info": {
   "name": "python"
  }
 },
 "nbformat": 4,
 "nbformat_minor": 5
}
