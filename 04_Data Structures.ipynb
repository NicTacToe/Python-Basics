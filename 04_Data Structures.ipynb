{
 "cells": [
  {
   "cell_type": "code",
   "execution_count": null,
   "id": "edce20df",
   "metadata": {},
   "outputs": [
    {
     "name": "stdout",
     "output_type": "stream",
     "text": [
      "Nakshatra kakani\n"
     ]
    }
   ],
   "source": [
    "#Strings"
   ]
  },
  {
   "cell_type": "code",
   "execution_count": 4,
   "id": "40406162",
   "metadata": {},
   "outputs": [
    {
     "name": "stdout",
     "output_type": "stream",
     "text": [
      "Nakshatra kakani\n",
      "Nakshatra\n",
      "kakani\n",
      "Nakshatra\"kakani\n"
     ]
    }
   ],
   "source": [
    "print(\"Nakshatra kakani\")\n",
    "print(\"Nakshatra\\nkakani\")\n",
    "print(\"Nakshatra\\\"kakani\")"
   ]
  },
  {
   "cell_type": "code",
   "execution_count": 5,
   "id": "a29c5f6e",
   "metadata": {},
   "outputs": [
    {
     "name": "stdout",
     "output_type": "stream",
     "text": [
      "Naksh\n"
     ]
    }
   ],
   "source": [
    "a='Naksh'\n",
    "print(a)"
   ]
  },
  {
   "cell_type": "code",
   "execution_count": 7,
   "id": "23c0a97c",
   "metadata": {},
   "outputs": [
    {
     "name": "stdout",
     "output_type": "stream",
     "text": [
      "Apple\n",
      "peple\n"
     ]
    }
   ],
   "source": [
    "a='Ap'\n",
    "b='ple'\n",
    "print(a+b)\n",
    "print('pe'+b)"
   ]
  },
  {
   "cell_type": "code",
   "execution_count": 11,
   "id": "2466ba02",
   "metadata": {},
   "outputs": [
    {
     "name": "stdout",
     "output_type": "stream",
     "text": [
      "nakshatra\n",
      "NAKSHATRA\n",
      "False\n"
     ]
    }
   ],
   "source": [
    "x='Nakshatra'\n",
    "print(x.lower())\n",
    "print(x.upper())\n",
    "print(x.isupper())"
   ]
  },
  {
   "cell_type": "code",
   "execution_count": 12,
   "id": "c5ae6ab4",
   "metadata": {},
   "outputs": [
    {
     "name": "stdout",
     "output_type": "stream",
     "text": [
      "True\n"
     ]
    }
   ],
   "source": [
    "print(x.upper().isupper())"
   ]
  },
  {
   "cell_type": "code",
   "execution_count": 18,
   "id": "7af97f53",
   "metadata": {},
   "outputs": [
    {
     "name": "stdout",
     "output_type": "stream",
     "text": [
      "9\n",
      "N\n",
      "1\n",
      "Nbbbbatra\n"
     ]
    }
   ],
   "source": [
    "print(len(x))\n",
    "print(x[0])\n",
    "print(x.index('aksh'))\n",
    "print(x.replace('aksh','bbbb'))"
   ]
  },
  {
   "cell_type": "code",
   "execution_count": 19,
   "id": "a85f5c25",
   "metadata": {},
   "outputs": [],
   "source": [
    "#Lists"
   ]
  },
  {
   "cell_type": "code",
   "execution_count": 26,
   "id": "ea1d56da",
   "metadata": {},
   "outputs": [
    {
     "name": "stdout",
     "output_type": "stream",
     "text": [
      "[1, 2, 3]\n",
      "1\n",
      "3\n"
     ]
    }
   ],
   "source": [
    "a=[1,2,3]\n",
    "print(a)\n",
    "print(a[0])\n",
    "print(a[-1])"
   ]
  },
  {
   "cell_type": "code",
   "execution_count": null,
   "id": "dab15fbe",
   "metadata": {},
   "outputs": [
    {
     "name": "stdout",
     "output_type": "stream",
     "text": [
      "[2, 3]\n"
     ]
    }
   ],
   "source": [
    "print(a[1:])"
   ]
  },
  {
   "cell_type": "code",
   "execution_count": 29,
   "id": "488dbbee",
   "metadata": {},
   "outputs": [
    {
     "name": "stdout",
     "output_type": "stream",
     "text": [
      "['B', 'C']\n",
      "Z\n"
     ]
    }
   ],
   "source": [
    "b=['A','B','C','D','E']\n",
    "print(b[1:3])\n",
    "b[1]='Z'\n",
    "print(b[1])"
   ]
  },
  {
   "cell_type": "code",
   "execution_count": null,
   "id": "eaaea1c9",
   "metadata": {},
   "outputs": [
    {
     "name": "stdout",
     "output_type": "stream",
     "text": [
      "[21, 32, 43, 54, 'A', 'S', 'D', 'W']\n"
     ]
    }
   ],
   "source": [
    "list1=[21,32,43,54]\n",
    "list2=['A','S','D','W']\n",
    "list1.extend(list2)\n",
    "print(list1)\n"
   ]
  },
  {
   "cell_type": "code",
   "execution_count": 49,
   "id": "33a86505",
   "metadata": {},
   "outputs": [
    {
     "name": "stdout",
     "output_type": "stream",
     "text": [
      "[21, 'L', 32, 43, 54]\n"
     ]
    }
   ],
   "source": [
    "list1=[21,32,43,54]\n",
    "list2=['A','S','D','W']\n",
    "list1.insert(1,'L')\n",
    "print(list1)"
   ]
  },
  {
   "cell_type": "code",
   "execution_count": 50,
   "id": "1a71505c",
   "metadata": {},
   "outputs": [
    {
     "name": "stdout",
     "output_type": "stream",
     "text": [
      "['A', 'D', 'W']\n",
      "[]\n"
     ]
    }
   ],
   "source": [
    "list1=[21,32,43,54]\n",
    "list2=['A','S','D','W']\n",
    "list2.remove('S')\n",
    "print(list2)\n",
    "list2.clear()\n",
    "print(list2)"
   ]
  },
  {
   "cell_type": "code",
   "execution_count": 56,
   "id": "f1263b97",
   "metadata": {},
   "outputs": [
    {
     "name": "stdout",
     "output_type": "stream",
     "text": [
      "['A', 'S', 'D']\n",
      "2\n"
     ]
    },
    {
     "ename": "ValueError",
     "evalue": "'A' is not in list",
     "output_type": "error",
     "traceback": [
      "\u001b[31m---------------------------------------------------------------------------\u001b[39m",
      "\u001b[31mValueError\u001b[39m                                Traceback (most recent call last)",
      "\u001b[36mCell\u001b[39m\u001b[36m \u001b[39m\u001b[32mIn[56]\u001b[39m\u001b[32m, line 6\u001b[39m\n\u001b[32m      4\u001b[39m \u001b[38;5;28mprint\u001b[39m(list2)\n\u001b[32m      5\u001b[39m \u001b[38;5;28mprint\u001b[39m(list1.index(\u001b[32m43\u001b[39m))\n\u001b[32m----> \u001b[39m\u001b[32m6\u001b[39m \u001b[38;5;28mprint\u001b[39m(\u001b[43mlist1\u001b[49m\u001b[43m.\u001b[49m\u001b[43mindex\u001b[49m\u001b[43m(\u001b[49m\u001b[33;43m\"\u001b[39;49m\u001b[33;43mA\u001b[39;49m\u001b[33;43m\"\u001b[39;49m\u001b[43m)\u001b[49m)\n",
      "\u001b[31mValueError\u001b[39m: 'A' is not in list"
     ]
    }
   ],
   "source": [
    "list1=[21,32,43,54]\n",
    "list2=['A','S','D','W']\n",
    "list2.pop()\n",
    "print(list2)\n",
    "print(list1.index(43))\n",
    "print(list1.index(\"A\"))"
   ]
  },
  {
   "cell_type": "code",
   "execution_count": 65,
   "id": "ead730f7",
   "metadata": {},
   "outputs": [
    {
     "name": "stdout",
     "output_type": "stream",
     "text": [
      "[1, 2, 2, 2, 3, 3, 4, 5, 6, 7]\n",
      "[7, 6, 5, 2, 2, 4, 3, 3, 2, 1]\n",
      "[7, 6, 5, 2, 2, 4, 3, 3, 2, 1]\n"
     ]
    }
   ],
   "source": [
    "a=[1,2,3,3,4,2,2,5,6,7]\n",
    "a.count(2)\n",
    "a.sort()\n",
    "print(a)\n",
    "a=[1,2,3,3,4,2,2,5,6,7]\n",
    "a.reverse()\n",
    "print(a)\n",
    "a2=a.copy()\n",
    "print(a2)"
   ]
  },
  {
   "cell_type": "code",
   "execution_count": 11,
   "id": "6c9edeb4",
   "metadata": {},
   "outputs": [],
   "source": [
    "#Tuples"
   ]
  },
  {
   "cell_type": "code",
   "execution_count": 3,
   "id": "fd8b2e4d",
   "metadata": {},
   "outputs": [
    {
     "name": "stdout",
     "output_type": "stream",
     "text": [
      "4\n",
      "5\n"
     ]
    }
   ],
   "source": [
    "a=(4,5)\n",
    "print(a[0])\n",
    "print(a[1])"
   ]
  },
  {
   "cell_type": "code",
   "execution_count": 4,
   "id": "05faf5f4",
   "metadata": {},
   "outputs": [
    {
     "ename": "TypeError",
     "evalue": "'tuple' object does not support item assignment",
     "output_type": "error",
     "traceback": [
      "\u001b[31m---------------------------------------------------------------------------\u001b[39m",
      "\u001b[31mTypeError\u001b[39m                                 Traceback (most recent call last)",
      "\u001b[36mCell\u001b[39m\u001b[36m \u001b[39m\u001b[32mIn[4]\u001b[39m\u001b[32m, line 1\u001b[39m\n\u001b[32m----> \u001b[39m\u001b[32m1\u001b[39m \u001b[43ma\u001b[49m\u001b[43m[\u001b[49m\u001b[32;43m1\u001b[39;49m\u001b[43m]\u001b[49m=\u001b[32m10\u001b[39m\n",
      "\u001b[31mTypeError\u001b[39m: 'tuple' object does not support item assignment"
     ]
    }
   ],
   "source": [
    "a[1]=10"
   ]
  },
  {
   "cell_type": "code",
   "execution_count": 8,
   "id": "32a9a534",
   "metadata": {},
   "outputs": [
    {
     "data": {
      "text/plain": [
       "(3, 4)"
      ]
     },
     "execution_count": 8,
     "metadata": {},
     "output_type": "execute_result"
    }
   ],
   "source": [
    "listoftupples=[(1,2),(3,4),(5,6)]\n",
    "listoftupples[1]"
   ]
  },
  {
   "cell_type": "code",
   "execution_count": 9,
   "id": "6b22c8b7",
   "metadata": {},
   "outputs": [],
   "source": [
    "#Sets"
   ]
  },
  {
   "cell_type": "code",
   "execution_count": 14,
   "id": "bf17f331",
   "metadata": {},
   "outputs": [
    {
     "name": "stdout",
     "output_type": "stream",
     "text": [
      "{1, 2, 3, 4}\n"
     ]
    }
   ],
   "source": [
    "num=[1,1,2,3,4]\n",
    "unique=set(num)\n",
    "print(unique)"
   ]
  },
  {
   "cell_type": "code",
   "execution_count": 17,
   "id": "3cd8742b",
   "metadata": {},
   "outputs": [
    {
     "name": "stdout",
     "output_type": "stream",
     "text": [
      "{4, 5}\n"
     ]
    }
   ],
   "source": [
    "second={1,4}\n",
    "second.add(5)\n",
    "second.remove(1)\n",
    "len(second)\n",
    "print(second)"
   ]
  },
  {
   "cell_type": "code",
   "execution_count": 25,
   "id": "c0e3cf26",
   "metadata": {},
   "outputs": [
    {
     "name": "stdout",
     "output_type": "stream",
     "text": [
      "{1, 2, 3, 4, 5}\n",
      "{1}\n",
      "{2, 3, 4}\n",
      "{2, 3, 4, 5}\n"
     ]
    }
   ],
   "source": [
    "num=[1,1,2,3,4]\n",
    "first=set(num)\n",
    "sec={1,5}\n",
    "\n",
    "#union\n",
    "print(first | sec)\n",
    "#intersection\n",
    "print(first & sec)\n",
    "#difference\n",
    "print(first-sec)\n",
    "#Symetic Difference\n",
    "print(first ^ sec)"
   ]
  },
  {
   "cell_type": "code",
   "execution_count": 26,
   "id": "673cf526",
   "metadata": {},
   "outputs": [
    {
     "ename": "TypeError",
     "evalue": "'set' object is not subscriptable",
     "output_type": "error",
     "traceback": [
      "\u001b[31m---------------------------------------------------------------------------\u001b[39m",
      "\u001b[31mTypeError\u001b[39m                                 Traceback (most recent call last)",
      "\u001b[36mCell\u001b[39m\u001b[36m \u001b[39m\u001b[32mIn[26]\u001b[39m\u001b[32m, line 1\u001b[39m\n\u001b[32m----> \u001b[39m\u001b[32m1\u001b[39m \u001b[38;5;28mprint\u001b[39m(\u001b[43mfirst\u001b[49m\u001b[43m[\u001b[49m\u001b[32;43m0\u001b[39;49m\u001b[43m]\u001b[49m)\n",
      "\u001b[31mTypeError\u001b[39m: 'set' object is not subscriptable"
     ]
    }
   ],
   "source": [
    "print(first[0])"
   ]
  },
  {
   "cell_type": "code",
   "execution_count": 27,
   "id": "4245695f",
   "metadata": {},
   "outputs": [
    {
     "name": "stdout",
     "output_type": "stream",
     "text": [
      "Yes\n"
     ]
    }
   ],
   "source": [
    "if 1 in first:\n",
    "    print('Yes')"
   ]
  },
  {
   "cell_type": "code",
   "execution_count": 7,
   "id": "b66da180",
   "metadata": {},
   "outputs": [],
   "source": [
    "user: dict={0:'A',1:'B',2:'C'}"
   ]
  },
  {
   "cell_type": "code",
   "execution_count": 2,
   "id": "3c8c13a5",
   "metadata": {},
   "outputs": [
    {
     "name": "stdout",
     "output_type": "stream",
     "text": [
      "dict_values(['A', 'B', 'C'])\n"
     ]
    }
   ],
   "source": [
    "print(user.values())"
   ]
  },
  {
   "cell_type": "code",
   "execution_count": 3,
   "id": "f3ec9e62",
   "metadata": {},
   "outputs": [
    {
     "name": "stdout",
     "output_type": "stream",
     "text": [
      "dict_keys([0, 1, 2])\n"
     ]
    }
   ],
   "source": [
    "print(user.keys())"
   ]
  },
  {
   "cell_type": "code",
   "execution_count": 8,
   "id": "63db068e",
   "metadata": {},
   "outputs": [
    {
     "name": "stdout",
     "output_type": "stream",
     "text": [
      "{0: 'A', 1: 'B'}\n"
     ]
    }
   ],
   "source": [
    "user.pop(2)\n",
    "print(user)"
   ]
  },
  {
   "cell_type": "code",
   "execution_count": 9,
   "id": "a4b09f87",
   "metadata": {},
   "outputs": [
    {
     "data": {
      "text/plain": [
       "(1, 'B')"
      ]
     },
     "execution_count": 9,
     "metadata": {},
     "output_type": "execute_result"
    }
   ],
   "source": [
    "#pop the last item\n",
    "user.popitem()"
   ]
  },
  {
   "cell_type": "code",
   "execution_count": 12,
   "id": "045f61fb",
   "metadata": {},
   "outputs": [],
   "source": [
    "a: dict= {0:['a','b'],1:['c','d'],3:['e','f']}"
   ]
  },
  {
   "cell_type": "code",
   "execution_count": 17,
   "id": "aac8f7a5",
   "metadata": {},
   "outputs": [
    {
     "name": "stdout",
     "output_type": "stream",
     "text": [
      "dict_values([['a', 'b'], ['c', 'd'], ['e', 'f']])\n"
     ]
    }
   ],
   "source": [
    "my_copy: dict = a.copy()\n",
    "print(my_copy.values())"
   ]
  },
  {
   "cell_type": "code",
   "execution_count": 18,
   "id": "c0c1ea39",
   "metadata": {},
   "outputs": [
    {
     "name": "stdout",
     "output_type": "stream",
     "text": [
      "{0: ['!!!!', 'b'], 1: ['c', 'd'], 3: ['e', 'f']}\n",
      "{0: ['!!!!', 'b'], 1: ['c', 'd'], 3: ['e', 'f']}\n"
     ]
    }
   ],
   "source": [
    "my_copy[0][0]='!!!!'\n",
    "print(a)\n",
    "print(my_copy)"
   ]
  },
  {
   "cell_type": "code",
   "execution_count": 19,
   "id": "2a286ee2",
   "metadata": {},
   "outputs": [],
   "source": [
    "user: dict={0:'A',1:'B',2:'C'}"
   ]
  },
  {
   "cell_type": "code",
   "execution_count": 23,
   "id": "7d156ad6",
   "metadata": {},
   "outputs": [
    {
     "name": "stdout",
     "output_type": "stream",
     "text": [
      "B\n",
      "None\n",
      "Missing\n"
     ]
    }
   ],
   "source": [
    "print(user.get(1))\n",
    "print(user.get(999))\n",
    "print(user.get(999,'Missing'))"
   ]
  },
  {
   "cell_type": "code",
   "execution_count": 25,
   "id": "f259f455",
   "metadata": {},
   "outputs": [
    {
     "name": "stdout",
     "output_type": "stream",
     "text": [
      "A\n",
      "???\n",
      "{0: 'A', 1: 'B', 2: 'C', 999: '???'}\n"
     ]
    }
   ],
   "source": [
    "print(user.setdefault(0,'???'))\n",
    "print(user.setdefault(999,'???'))\n",
    "print(user)"
   ]
  },
  {
   "cell_type": "code",
   "execution_count": 27,
   "id": "a7edd714",
   "metadata": {},
   "outputs": [
    {
     "name": "stdout",
     "output_type": "stream",
     "text": [
      "{}\n"
     ]
    }
   ],
   "source": [
    "user.clear()\n",
    "print(user)"
   ]
  },
  {
   "cell_type": "code",
   "execution_count": 28,
   "id": "6258a087",
   "metadata": {},
   "outputs": [],
   "source": [
    "b: list[str]=['a','b','c']"
   ]
  },
  {
   "cell_type": "code",
   "execution_count": 31,
   "id": "21ff0a5f",
   "metadata": {},
   "outputs": [
    {
     "name": "stdout",
     "output_type": "stream",
     "text": [
      "{'a': None, 'b': None, 'c': None}\n"
     ]
    }
   ],
   "source": [
    "user: dict=dict.fromkeys(b)\n",
    "print(user)"
   ]
  },
  {
   "cell_type": "code",
   "execution_count": 32,
   "id": "254e9cbd",
   "metadata": {},
   "outputs": [
    {
     "name": "stdout",
     "output_type": "stream",
     "text": [
      "{'a': 'Unknown', 'b': 'Unknown', 'c': 'Unknown'}\n"
     ]
    }
   ],
   "source": [
    "user: dict=dict.fromkeys(b,'Unknown')\n",
    "print(user)"
   ]
  },
  {
   "cell_type": "code",
   "execution_count": 35,
   "id": "156b86c4",
   "metadata": {},
   "outputs": [],
   "source": [
    "user: dict={0:'A',1:'B',2:'C'}"
   ]
  },
  {
   "cell_type": "code",
   "execution_count": 37,
   "id": "2f23011e",
   "metadata": {},
   "outputs": [
    {
     "name": "stdout",
     "output_type": "stream",
     "text": [
      "dict_items([(0, 'A'), (1, 'B'), (2, 'C')])\n"
     ]
    }
   ],
   "source": [
    "print(user.items())"
   ]
  },
  {
   "cell_type": "code",
   "execution_count": 38,
   "id": "49620e41",
   "metadata": {},
   "outputs": [
    {
     "name": "stdout",
     "output_type": "stream",
     "text": [
      "0 A\n",
      "1 B\n",
      "2 C\n"
     ]
    }
   ],
   "source": [
    "for k,v in user.items():\n",
    "    print(k,v)"
   ]
  },
  {
   "cell_type": "code",
   "execution_count": 39,
   "id": "a72876e8",
   "metadata": {},
   "outputs": [
    {
     "name": "stdout",
     "output_type": "stream",
     "text": [
      "dict_items([(0, 'A'), (1, 'B'), (2, 'Z'), (3, 'Y'), (4, 'X')])\n"
     ]
    }
   ],
   "source": [
    "user.update({2:'Z',3:'Y',4:'X'})\n",
    "print(user.items())"
   ]
  },
  {
   "cell_type": "code",
   "execution_count": 41,
   "id": "b7260fab",
   "metadata": {},
   "outputs": [
    {
     "name": "stdout",
     "output_type": "stream",
     "text": [
      "{0: ['!!!!', 'b'], 1: ['c', 'd'], 2: 'Z', 3: ['e', 'f'], 4: 'X'}\n"
     ]
    }
   ],
   "source": [
    "print(user | a)"
   ]
  },
  {
   "cell_type": "code",
   "execution_count": 43,
   "id": "a78e7bb0",
   "metadata": {},
   "outputs": [
    {
     "name": "stdout",
     "output_type": "stream",
     "text": [
      "{0: ['!!!!', 'b'], 1: ['c', 'd'], 2: 'Z', 3: ['e', 'f'], 4: 'X'}\n"
     ]
    }
   ],
   "source": [
    "user |= a\n",
    "print(user)"
   ]
  }
 ],
 "metadata": {
  "kernelspec": {
   "display_name": "Python 3",
   "language": "python",
   "name": "python3"
  },
  "language_info": {
   "codemirror_mode": {
    "name": "ipython",
    "version": 3
   },
   "file_extension": ".py",
   "mimetype": "text/x-python",
   "name": "python",
   "nbconvert_exporter": "python",
   "pygments_lexer": "ipython3",
   "version": "3.12.10"
  }
 },
 "nbformat": 4,
 "nbformat_minor": 5
}
