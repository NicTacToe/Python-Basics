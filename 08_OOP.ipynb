{
 "cells": [
  {
   "cell_type": "code",
   "execution_count": 1,
   "id": "a0a30cb6",
   "metadata": {},
   "outputs": [],
   "source": [
    "#class: Blueprint for how an object should look like and how it should function"
   ]
  },
  {
   "cell_type": "code",
   "execution_count": 6,
   "id": "90e5cf93",
   "metadata": {},
   "outputs": [],
   "source": [
    "class Microwave:\n",
    "    def __init__(self,brand:str,power_rating:str) -> None:\n",
    "        self.brand=brand\n",
    "        self.power_rating=power_rating\n",
    "\n",
    "smeg = Microwave('smeg','B')"
   ]
  },
  {
   "cell_type": "code",
   "execution_count": 8,
   "id": "b60c1ea8",
   "metadata": {},
   "outputs": [
    {
     "name": "stdout",
     "output_type": "stream",
     "text": [
      "smeg\n",
      "B\n"
     ]
    }
   ],
   "source": [
    "print(smeg.brand)\n",
    "print(smeg.power_rating)"
   ]
  },
  {
   "cell_type": "code",
   "execution_count": 9,
   "id": "97a5b1d5",
   "metadata": {},
   "outputs": [
    {
     "name": "stdout",
     "output_type": "stream",
     "text": [
      "Bosche\n",
      "C\n"
     ]
    }
   ],
   "source": [
    "bosch=Microwave('Bosche','C')\n",
    "print(bosch.brand)\n",
    "print(bosch.power_rating)"
   ]
  },
  {
   "cell_type": "code",
   "execution_count": 10,
   "id": "79508b32",
   "metadata": {},
   "outputs": [],
   "source": [
    "import time"
   ]
  },
  {
   "cell_type": "code",
   "execution_count": 24,
   "id": "4770816b",
   "metadata": {},
   "outputs": [],
   "source": [
    "class Microwave:\n",
    "    def __init__(self,brand:str,power_rating:str) -> None:\n",
    "        self.brand=brand\n",
    "        self.power_rating=power_rating\n",
    "        self.turned_on:bool=False\n",
    "\n",
    "\n",
    "    def turn_on(self)->None:\n",
    "        if self.turned_on==True:\n",
    "            print(f\"The {self.brand}'s microwave is ALREADY turned ON\")\n",
    "        else:\n",
    "            self.turned_on=True\n",
    "            print(f\"The {self.brand}'s microwave is NOW turned ON\")\n",
    "\n",
    "\n",
    "    def turn_off(self)->None:\n",
    "        if self.turned_on==False:\n",
    "            print(f\"The {self.brand}'s microwave is ALREADY turned OFF\")\n",
    "        else:\n",
    "            self.turned_on=False\n",
    "            print(f\"The {self.brand}'s microwave is NOW turned OFF\")\n",
    "\n",
    "    def run(self,sec:int)->None:\n",
    "        if self.turned_on:\n",
    "            print(f'Running...')\n",
    "            time.sleep(sec)\n",
    "            print('Finished')\n",
    "            self.turned_on=False\n",
    "        else:\n",
    "            print('TURN ON YOUR GODDAMN MICROWAVE')\n"
   ]
  },
  {
   "cell_type": "code",
   "execution_count": 25,
   "id": "9b971570",
   "metadata": {},
   "outputs": [],
   "source": [
    "smeg=Microwave(brand='Smeg',power_rating='B')"
   ]
  },
  {
   "cell_type": "code",
   "execution_count": 26,
   "id": "253becd8",
   "metadata": {},
   "outputs": [
    {
     "name": "stdout",
     "output_type": "stream",
     "text": [
      "The Smeg's microwave is NOW turned ON\n",
      "The Smeg's microwave is ALREADY turned ON\n"
     ]
    }
   ],
   "source": [
    "smeg.turn_on()\n",
    "smeg.turn_on()"
   ]
  },
  {
   "cell_type": "code",
   "execution_count": 27,
   "id": "b53676b0",
   "metadata": {},
   "outputs": [
    {
     "name": "stdout",
     "output_type": "stream",
     "text": [
      "The Smeg's microwave is NOW turned OFF\n",
      "The Smeg's microwave is ALREADY turned OFF\n"
     ]
    }
   ],
   "source": [
    "smeg.turn_off()\n",
    "smeg.turn_off()"
   ]
  },
  {
   "cell_type": "code",
   "execution_count": 28,
   "id": "d14b33c4",
   "metadata": {},
   "outputs": [
    {
     "name": "stdout",
     "output_type": "stream",
     "text": [
      "The Smeg's microwave is NOW turned ON\n",
      "Running...\n",
      "Finished\n"
     ]
    }
   ],
   "source": [
    "smeg.turn_on()\n",
    "smeg.run(5)"
   ]
  },
  {
   "cell_type": "code",
   "execution_count": 29,
   "id": "3d970b4f",
   "metadata": {},
   "outputs": [
    {
     "name": "stdout",
     "output_type": "stream",
     "text": [
      "TURN ON YOUR GODDAMN MICROWAVE\n"
     ]
    }
   ],
   "source": [
    "smeg.run(2)"
   ]
  },
  {
   "cell_type": "code",
   "execution_count": 31,
   "id": "d574320e",
   "metadata": {},
   "outputs": [
    {
     "name": "stdout",
     "output_type": "stream",
     "text": [
      "The Bosch's microwave is NOW turned ON\n",
      "Running...\n",
      "Finished\n",
      "The Bosch's microwave is ALREADY turned OFF\n"
     ]
    }
   ],
   "source": [
    "bosch=Microwave('Bosch','CC')\n",
    "bosch.turn_on()\n",
    "bosch.run(2)\n",
    "bosch.turn_off()"
   ]
  },
  {
   "cell_type": "code",
   "execution_count": null,
   "id": "99dc9729",
   "metadata": {},
   "outputs": [],
   "source": [
    "#Dunder Method"
   ]
  },
  {
   "cell_type": "code",
   "execution_count": 50,
   "id": "0f12fdd7",
   "metadata": {},
   "outputs": [],
   "source": [
    "class Microwave:\n",
    "    def __init__(self,brand:str,power_rating:str) -> None:\n",
    "        self.brand=brand\n",
    "        self.power_rating=power_rating\n",
    "        self.turned_on:bool=False\n",
    "\n",
    "\n",
    "    def turn_on(self)->None:\n",
    "        if self.turned_on==True:\n",
    "            print(f\"The {self.brand}'s microwave is ALREADY turned ON\")\n",
    "        else:\n",
    "            self.turned_on=True\n",
    "            print(f\"The {self.brand}'s microwave is NOW turned ON\")\n",
    "\n",
    "\n",
    "    def turn_off(self)->None:\n",
    "        if self.turned_on==False:\n",
    "            print(f\"The {self.brand}'s microwave is ALREADY turned OFF\")\n",
    "        else:\n",
    "            self.turned_on=False\n",
    "            print(f\"The {self.brand}'s microwave is NOW turned OFF\")\n",
    "\n",
    "    def run(self,sec:int)->None:\n",
    "        if self.turned_on:\n",
    "            print(f'Running...')\n",
    "            time.sleep(sec)\n",
    "            print('Finished')\n",
    "            self.turned_on=False\n",
    "        else:\n",
    "            print('TURN ON YOUR GODDAMN MICROWAVE')\n",
    "\n",
    "    def __add__(self,other):\n",
    "        return f'{self.brand} + {other.brand}'\n",
    "    \n",
    "    def __mul__(self,other):\n",
    "        return f'{self.brand} * {other.brand}'\n",
    "    \n",
    "    def __str__(self)->str:\n",
    "        return f'{self.brand} (Rating: {self.power_rating})'\n",
    "    \n",
    "    def __repr__(self)->str:\n",
    "        return f'Microwave(brand=\"{self.brand}\",power_rating=\"{self.power_rating}\")'"
   ]
  },
  {
   "cell_type": "code",
   "execution_count": 51,
   "id": "cd022d30",
   "metadata": {},
   "outputs": [],
   "source": [
    "smeg=Microwave(brand='Smeg',power_rating='B')\n",
    "bosch=Microwave('Bosch','CC')"
   ]
  },
  {
   "cell_type": "code",
   "execution_count": 52,
   "id": "891b82f0",
   "metadata": {},
   "outputs": [
    {
     "name": "stdout",
     "output_type": "stream",
     "text": [
      "Smeg + Bosch\n",
      "Smeg * Bosch\n"
     ]
    }
   ],
   "source": [
    "print(smeg+bosch)\n",
    "print(smeg*bosch)"
   ]
  },
  {
   "cell_type": "code",
   "execution_count": 53,
   "id": "382f7c27",
   "metadata": {},
   "outputs": [
    {
     "name": "stdout",
     "output_type": "stream",
     "text": [
      "Smeg (Rating: B)\n",
      "Bosch (Rating: CC)\n"
     ]
    }
   ],
   "source": [
    "print(smeg)\n",
    "print(bosch)"
   ]
  },
  {
   "cell_type": "code",
   "execution_count": 54,
   "id": "1c3fd400",
   "metadata": {},
   "outputs": [
    {
     "name": "stdout",
     "output_type": "stream",
     "text": [
      "Microwave(brand=\"Smeg\",power_rating=\"B\")\n"
     ]
    }
   ],
   "source": [
    "print(repr(smeg))"
   ]
  }
 ],
 "metadata": {
  "kernelspec": {
   "display_name": "Python 3",
   "language": "python",
   "name": "python3"
  },
  "language_info": {
   "codemirror_mode": {
    "name": "ipython",
    "version": 3
   },
   "file_extension": ".py",
   "mimetype": "text/x-python",
   "name": "python",
   "nbconvert_exporter": "python",
   "pygments_lexer": "ipython3",
   "version": "3.12.10"
  }
 },
 "nbformat": 4,
 "nbformat_minor": 5
}
