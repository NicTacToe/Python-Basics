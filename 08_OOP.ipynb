{
 "cells": [
  {
   "cell_type": "code",
   "execution_count": 1,
   "id": "a0a30cb6",
   "metadata": {},
   "outputs": [],
   "source": [
    "#class: Blueprint for how an object should look like and how it should function"
   ]
  },
  {
   "cell_type": "code",
   "execution_count": 6,
   "id": "90e5cf93",
   "metadata": {},
   "outputs": [],
   "source": [
    "class Microwave:\n",
    "    def __init__(self,brand:str,power_rating:str) -> None:\n",
    "        self.brand=brand\n",
    "        self.power_rating=power_rating\n",
    "\n",
    "smeg = Microwave('smeg','B')"
   ]
  },
  {
   "cell_type": "code",
   "execution_count": 8,
   "id": "b60c1ea8",
   "metadata": {},
   "outputs": [
    {
     "name": "stdout",
     "output_type": "stream",
     "text": [
      "smeg\n",
      "B\n"
     ]
    }
   ],
   "source": [
    "print(smeg.brand)\n",
    "print(smeg.power_rating)"
   ]
  },
  {
   "cell_type": "code",
   "execution_count": 9,
   "id": "97a5b1d5",
   "metadata": {},
   "outputs": [
    {
     "name": "stdout",
     "output_type": "stream",
     "text": [
      "Bosche\n",
      "C\n"
     ]
    }
   ],
   "source": [
    "bosch=Microwave('Bosche','C')\n",
    "print(bosch.brand)\n",
    "print(bosch.power_rating)"
   ]
  },
  {
   "cell_type": "code",
   "execution_count": 10,
   "id": "79508b32",
   "metadata": {},
   "outputs": [],
   "source": [
    "import time"
   ]
  },
  {
   "cell_type": "code",
   "execution_count": 24,
   "id": "4770816b",
   "metadata": {},
   "outputs": [],
   "source": [
    "class Microwave:\n",
    "    def __init__(self,brand:str,power_rating:str) -> None:\n",
    "        self.brand=brand\n",
    "        self.power_rating=power_rating\n",
    "        self.turned_on:bool=False\n",
    "\n",
    "\n",
    "    def turn_on(self)->None:\n",
    "        if self.turned_on==True:\n",
    "            print(f\"The {self.brand}'s microwave is ALREADY turned ON\")\n",
    "        else:\n",
    "            self.turned_on=True\n",
    "            print(f\"The {self.brand}'s microwave is NOW turned ON\")\n",
    "\n",
    "\n",
    "    def turn_off(self)->None:\n",
    "        if self.turned_on==False:\n",
    "            print(f\"The {self.brand}'s microwave is ALREADY turned OFF\")\n",
    "        else:\n",
    "            self.turned_on=False\n",
    "            print(f\"The {self.brand}'s microwave is NOW turned OFF\")\n",
    "\n",
    "    def run(self,sec:int)->None:\n",
    "        if self.turned_on:\n",
    "            print(f'Running...')\n",
    "            time.sleep(sec)\n",
    "            print('Finished')\n",
    "            self.turned_on=False\n",
    "        else:\n",
    "            print('TURN ON YOUR GODDAMN MICROWAVE')\n"
   ]
  },
  {
   "cell_type": "code",
   "execution_count": 25,
   "id": "9b971570",
   "metadata": {},
   "outputs": [],
   "source": [
    "smeg=Microwave(brand='Smeg',power_rating='B')"
   ]
  },
  {
   "cell_type": "code",
   "execution_count": 26,
   "id": "253becd8",
   "metadata": {},
   "outputs": [
    {
     "name": "stdout",
     "output_type": "stream",
     "text": [
      "The Smeg's microwave is NOW turned ON\n",
      "The Smeg's microwave is ALREADY turned ON\n"
     ]
    }
   ],
   "source": [
    "smeg.turn_on()\n",
    "smeg.turn_on()"
   ]
  },
  {
   "cell_type": "code",
   "execution_count": 27,
   "id": "b53676b0",
   "metadata": {},
   "outputs": [
    {
     "name": "stdout",
     "output_type": "stream",
     "text": [
      "The Smeg's microwave is NOW turned OFF\n",
      "The Smeg's microwave is ALREADY turned OFF\n"
     ]
    }
   ],
   "source": [
    "smeg.turn_off()\n",
    "smeg.turn_off()"
   ]
  },
  {
   "cell_type": "code",
   "execution_count": 28,
   "id": "d14b33c4",
   "metadata": {},
   "outputs": [
    {
     "name": "stdout",
     "output_type": "stream",
     "text": [
      "The Smeg's microwave is NOW turned ON\n",
      "Running...\n",
      "Finished\n"
     ]
    }
   ],
   "source": [
    "smeg.turn_on()\n",
    "smeg.run(5)"
   ]
  },
  {
   "cell_type": "code",
   "execution_count": 29,
   "id": "3d970b4f",
   "metadata": {},
   "outputs": [
    {
     "name": "stdout",
     "output_type": "stream",
     "text": [
      "TURN ON YOUR GODDAMN MICROWAVE\n"
     ]
    }
   ],
   "source": [
    "smeg.run(2)"
   ]
  },
  {
   "cell_type": "code",
   "execution_count": 31,
   "id": "d574320e",
   "metadata": {},
   "outputs": [
    {
     "name": "stdout",
     "output_type": "stream",
     "text": [
      "The Bosch's microwave is NOW turned ON\n",
      "Running...\n",
      "Finished\n",
      "The Bosch's microwave is ALREADY turned OFF\n"
     ]
    }
   ],
   "source": [
    "bosch=Microwave('Bosch','CC')\n",
    "bosch.turn_on()\n",
    "bosch.run(2)\n",
    "bosch.turn_off()"
   ]
  },
  {
   "cell_type": "code",
   "execution_count": null,
   "id": "99dc9729",
   "metadata": {},
   "outputs": [],
   "source": [
    "#Dunder Method"
   ]
  },
  {
   "cell_type": "code",
   "execution_count": 50,
   "id": "0f12fdd7",
   "metadata": {},
   "outputs": [],
   "source": [
    "class Microwave:\n",
    "    def __init__(self,brand:str,power_rating:str) -> None:\n",
    "        self.brand=brand\n",
    "        self.power_rating=power_rating\n",
    "        self.turned_on:bool=False\n",
    "\n",
    "\n",
    "    def turn_on(self)->None:\n",
    "        if self.turned_on==True:\n",
    "            print(f\"The {self.brand}'s microwave is ALREADY turned ON\")\n",
    "        else:\n",
    "            self.turned_on=True\n",
    "            print(f\"The {self.brand}'s microwave is NOW turned ON\")\n",
    "\n",
    "\n",
    "    def turn_off(self)->None:\n",
    "        if self.turned_on==False:\n",
    "            print(f\"The {self.brand}'s microwave is ALREADY turned OFF\")\n",
    "        else:\n",
    "            self.turned_on=False\n",
    "            print(f\"The {self.brand}'s microwave is NOW turned OFF\")\n",
    "\n",
    "    def run(self,sec:int)->None:\n",
    "        if self.turned_on:\n",
    "            print(f'Running...')\n",
    "            time.sleep(sec)\n",
    "            print('Finished')\n",
    "            self.turned_on=False\n",
    "        else:\n",
    "            print('TURN ON YOUR GODDAMN MICROWAVE')\n",
    "\n",
    "    def __add__(self,other):\n",
    "        return f'{self.brand} + {other.brand}'\n",
    "    \n",
    "    def __mul__(self,other):\n",
    "        return f'{self.brand} * {other.brand}'\n",
    "    \n",
    "    def __str__(self)->str:\n",
    "        return f'{self.brand} (Rating: {self.power_rating})'\n",
    "    \n",
    "    def __repr__(self)->str:\n",
    "        return f'Microwave(brand=\"{self.brand}\",power_rating=\"{self.power_rating}\")'"
   ]
  },
  {
   "cell_type": "code",
   "execution_count": 51,
   "id": "cd022d30",
   "metadata": {},
   "outputs": [],
   "source": [
    "smeg=Microwave(brand='Smeg',power_rating='B')\n",
    "bosch=Microwave('Bosch','CC')"
   ]
  },
  {
   "cell_type": "code",
   "execution_count": 52,
   "id": "891b82f0",
   "metadata": {},
   "outputs": [
    {
     "name": "stdout",
     "output_type": "stream",
     "text": [
      "Smeg + Bosch\n",
      "Smeg * Bosch\n"
     ]
    }
   ],
   "source": [
    "print(smeg+bosch)\n",
    "print(smeg*bosch)"
   ]
  },
  {
   "cell_type": "code",
   "execution_count": 53,
   "id": "382f7c27",
   "metadata": {},
   "outputs": [
    {
     "name": "stdout",
     "output_type": "stream",
     "text": [
      "Smeg (Rating: B)\n",
      "Bosch (Rating: CC)\n"
     ]
    }
   ],
   "source": [
    "print(smeg)\n",
    "print(bosch)"
   ]
  },
  {
   "cell_type": "code",
   "execution_count": 54,
   "id": "1c3fd400",
   "metadata": {},
   "outputs": [
    {
     "name": "stdout",
     "output_type": "stream",
     "text": [
      "Microwave(brand=\"Smeg\",power_rating=\"B\")\n"
     ]
    }
   ],
   "source": [
    "print(repr(smeg))"
   ]
  },
  {
   "cell_type": "code",
   "execution_count": null,
   "id": "1cdc7423",
   "metadata": {},
   "outputs": [],
   "source": [
    "#Constructor: special methods that get callled when an object  of a class is innitiated     "
   ]
  },
  {
   "cell_type": "code",
   "execution_count": 7,
   "id": "b5a6ae7b",
   "metadata": {},
   "outputs": [],
   "source": [
    "class faculty:\n",
    "    def __init__(self):\n",
    "        self.id=int(input('Enter Faculty id:'))\n",
    "        self.name=input(\"enter name: \")\n",
    "        self.salary=float(input(f\"enter {self.id}'s salary: \"))\n",
    "    def display(self):\n",
    "        print(f\"ID: {self.id}\\nName: {self.name}\\nSalary: {self.salary}\")\n",
    "    "
   ]
  },
  {
   "cell_type": "code",
   "execution_count": 8,
   "id": "9cb409a8",
   "metadata": {},
   "outputs": [
    {
     "name": "stdout",
     "output_type": "stream",
     "text": [
      "ID: 12\n",
      "Name: A\n",
      "Salary: 12000.0\n"
     ]
    }
   ],
   "source": [
    "a=faculty()\n",
    "a.display()"
   ]
  },
  {
   "cell_type": "code",
   "execution_count": 9,
   "id": "a4fe7ac1",
   "metadata": {},
   "outputs": [],
   "source": [
    "class faculty:\n",
    "    def __init__(self,a,b,c):\n",
    "        self.id=a\n",
    "        self.name=b\n",
    "        self.salary=c\n",
    "    def display(self):\n",
    "        print(f\"ID: {self.id}\\nName: {self.name}\\nSalary: {self.salary}\")\n",
    "    "
   ]
  },
  {
   "cell_type": "code",
   "execution_count": 11,
   "id": "6e801a33",
   "metadata": {},
   "outputs": [
    {
     "name": "stdout",
     "output_type": "stream",
     "text": [
      "ID: 1\n",
      "Name: B\n",
      "Salary: 1200\n"
     ]
    }
   ],
   "source": [
    "a=faculty(1,\"B\",1200)\n",
    "a.display()"
   ]
  },
  {
   "cell_type": "code",
   "execution_count": 31,
   "id": "159f20f0",
   "metadata": {},
   "outputs": [],
   "source": [
    "class OpenFile:\n",
    "    def __init__(self,filename):\n",
    "        try:\n",
    "            self.file=open(filename,\"r+\")\n",
    "            print('File Opened')\n",
    "        except Exception as e:\n",
    "            print(\"Error\",e)\n",
    "    def content(self):\n",
    "        print(self.file.read())\n",
    "    def __del__(self):\n",
    "        self.file.close()\n",
    "        print('File Closed')"
   ]
  },
  {
   "cell_type": "code",
   "execution_count": 32,
   "id": "8b46fd0f",
   "metadata": {},
   "outputs": [
    {
     "name": "stdout",
     "output_type": "stream",
     "text": [
      "File Opened\n",
      "File Closed\n",
      "a=7\n",
      "\n",
      "def sq(x):\n",
      "    return x**2\n",
      "\n",
      "def cube(x):\n",
      "    return x**3\n"
     ]
    }
   ],
   "source": [
    "a=OpenFile(\"test.py\")\n",
    "a.content()"
   ]
  },
  {
   "cell_type": "code",
   "execution_count": null,
   "id": "23792a65",
   "metadata": {},
   "outputs": [],
   "source": [
    "#Inheritence: Utilzing parent class's properties(variables) and methods(functions)"
   ]
  },
  {
   "cell_type": "code",
   "execution_count": 38,
   "id": "103a3f29",
   "metadata": {},
   "outputs": [],
   "source": [
    "class OTTSub:\n",
    "    def __init__(self,sub_id,plan,total_payment):\n",
    "        self.id=sub_id\n",
    "        self.plan=plan\n",
    "        self.total_payment=total_payment\n",
    "\n",
    "    def Subscriber(self):\n",
    "        print(f\"Sub w/t {self.id} is subscribed to {self.plan}\")\n",
    "\n",
    "    \n",
    "    def UnSubscribe(self):\n",
    "        print(f\"Sub w/t {self.id} is UNsubscribed to {self.plan}\")"
   ]
  },
  {
   "cell_type": "code",
   "execution_count": 39,
   "id": "606cd8ed",
   "metadata": {},
   "outputs": [],
   "source": [
    "class PremiumSub(OTTSub):\n",
    "    def __init__(self, sub_id, plan, total_payment,screens):\n",
    "        super().__init__(sub_id, plan, total_payment)\n",
    "        self.max_screens=screens\n",
    "\n",
    "    def SetMaxScreens(self,screens):\n",
    "        self.max_screens=screens\n",
    "        print(f\"Max screens for {self.id} is {self.max_screens} in premium mode\")"
   ]
  },
  {
   "cell_type": "code",
   "execution_count": null,
   "id": "fcf8c8ce",
   "metadata": {},
   "outputs": [
    {
     "data": {
      "text/plain": [
       "'Monthly'"
      ]
     },
     "execution_count": 45,
     "metadata": {},
     "output_type": "execute_result"
    }
   ],
   "source": [
    "netflix=OTTSub(121212,'Monthly',399)\n",
    "netflix.plan"
   ]
  },
  {
   "cell_type": "code",
   "execution_count": 46,
   "id": "7a363f04",
   "metadata": {},
   "outputs": [
    {
     "name": "stdout",
     "output_type": "stream",
     "text": [
      "Sub w/t 121212 is subscribed to Monthly\n"
     ]
    }
   ],
   "source": [
    "netflix.Subscriber()"
   ]
  },
  {
   "cell_type": "code",
   "execution_count": 47,
   "id": "fe809053",
   "metadata": {},
   "outputs": [
    {
     "name": "stdout",
     "output_type": "stream",
     "text": [
      "Sub w/t 121212 is UNsubscribed to Monthly\n"
     ]
    }
   ],
   "source": [
    "netflix.UnSubscribe()"
   ]
  },
  {
   "cell_type": "code",
   "execution_count": 49,
   "id": "eb9afedb",
   "metadata": {},
   "outputs": [
    {
     "name": "stdout",
     "output_type": "stream",
     "text": [
      "Sub w/t 1234 is subscribed to Monthly\n"
     ]
    }
   ],
   "source": [
    "netflix2=PremiumSub(\"1234\",\"Monthly\",399,2)\n",
    "netflix2.Subscriber()"
   ]
  },
  {
   "cell_type": "code",
   "execution_count": 51,
   "id": "38f443b4",
   "metadata": {},
   "outputs": [
    {
     "name": "stdout",
     "output_type": "stream",
     "text": [
      "Max screens for 1234 is 3 in premium mode\n"
     ]
    }
   ],
   "source": [
    "netflix2.SetMaxScreens(3)"
   ]
  },
  {
   "cell_type": "code",
   "execution_count": null,
   "id": "8fa74ed0",
   "metadata": {},
   "outputs": [],
   "source": [
    "#Polymorphism: Many forms\n",
    "#2 tyepes : Inheritence , \"Duck Typing\""
   ]
  },
  {
   "cell_type": "code",
   "execution_count": 10,
   "id": "4502dc1e",
   "metadata": {},
   "outputs": [],
   "source": [
    "from abc import ABC, abstractmethod"
   ]
  },
  {
   "cell_type": "code",
   "execution_count": 23,
   "id": "c680636f",
   "metadata": {},
   "outputs": [],
   "source": [
    "class Shape:\n",
    "\n",
    "    @abstractmethod\n",
    "    def area(self):\n",
    "        pass\n",
    "\n",
    "class Circle(Shape):\n",
    "    def __init__(self,radius):\n",
    "        self.radius=radius\n",
    "\n",
    "    def area(self):\n",
    "        return 3.14*self.radius**2\n",
    "        \n",
    "\n",
    "class Square(Shape):\n",
    "    def __init__(self,side):\n",
    "        self.side=side\n",
    "\n",
    "    def area(self):\n",
    "        return self.side**2\n",
    "        \n",
    "\n",
    "class Triangle(Shape):\n",
    "    def __init__(self,base,height):\n",
    "        self.base=base\n",
    "        self.height=height\n",
    "\n",
    "    def area(self):\n",
    "        return self.base*self.height*0.5\n",
    "    \n",
    "\n",
    "class Pizza(Circle):\n",
    "    def __init__(self,topping,radius):\n",
    "        self.toppings=topping\n",
    "        super().__init__(radius)\n"
   ]
  },
  {
   "cell_type": "code",
   "execution_count": 24,
   "id": "8532ae98",
   "metadata": {},
   "outputs": [],
   "source": [
    "shapes=[Circle(4),Square(5),Triangle(6,7),Pizza('Corn',12)]"
   ]
  },
  {
   "cell_type": "code",
   "execution_count": 25,
   "id": "9f3e770a",
   "metadata": {},
   "outputs": [
    {
     "name": "stdout",
     "output_type": "stream",
     "text": [
      "area= 50.24 cm^2\n",
      "area= 25 cm^2\n",
      "area= 21.0 cm^2\n",
      "area= 452.16 cm^2\n"
     ]
    }
   ],
   "source": [
    "for _ in shapes:\n",
    "    print(f\"area= {_.area()} cm^2\")"
   ]
  }
 ],
 "metadata": {
  "kernelspec": {
   "display_name": "Python 3",
   "language": "python",
   "name": "python3"
  },
  "language_info": {
   "codemirror_mode": {
    "name": "ipython",
    "version": 3
   },
   "file_extension": ".py",
   "mimetype": "text/x-python",
   "name": "python",
   "nbconvert_exporter": "python",
   "pygments_lexer": "ipython3",
   "version": "3.12.10"
  }
 },
 "nbformat": 4,
 "nbformat_minor": 5
}
