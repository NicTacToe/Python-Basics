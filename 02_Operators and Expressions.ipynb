{
 "cells": [
  {
   "cell_type": "code",
   "execution_count": 2,
   "id": "10d3ca99",
   "metadata": {},
   "outputs": [
    {
     "name": "stdout",
     "output_type": "stream",
     "text": [
      "13\n",
      "7\n",
      "30\n",
      "3.3333333333333335\n",
      "3\n",
      "1\n",
      "1000\n"
     ]
    }
   ],
   "source": [
    "#Arithmetic Operators\n",
    "print(10+3)\n",
    "print(10-3)\n",
    "print(10*3)\n",
    "print(10/3)\n",
    "print(10//3)\n",
    "print(10%3)\n",
    "print(10**3)"
   ]
  },
  {
   "cell_type": "code",
   "execution_count": 6,
   "id": "fbd7bc7f",
   "metadata": {},
   "outputs": [
    {
     "name": "stdout",
     "output_type": "stream",
     "text": [
      "13\n"
     ]
    }
   ],
   "source": [
    "#Assignment Operator\n",
    "x=10\n",
    "x+=3\n",
    "print(x)"
   ]
  },
  {
   "cell_type": "code",
   "execution_count": null,
   "id": "8889cf60",
   "metadata": {},
   "outputs": [
    {
     "name": "stdout",
     "output_type": "stream",
     "text": [
      "16\n",
      "26\n"
     ]
    }
   ],
   "source": [
    "x=10+3*2\n",
    "print(x)\n",
    "x=(10+3)*2\n",
    "print(x)"
   ]
  },
  {
   "cell_type": "code",
   "execution_count": 3,
   "id": "badfcf86",
   "metadata": {},
   "outputs": [
    {
     "name": "stdout",
     "output_type": "stream",
     "text": [
      "True\n"
     ]
    }
   ],
   "source": [
    "x=3>2\n",
    "print(x)"
   ]
  },
  {
   "cell_type": "code",
   "execution_count": 4,
   "id": "86b91242",
   "metadata": {},
   "outputs": [
    {
     "name": "stdout",
     "output_type": "stream",
     "text": [
      "False\n"
     ]
    }
   ],
   "source": [
    "x=3==2\n",
    "print(x)"
   ]
  },
  {
   "cell_type": "markdown",
   "id": "d510f388",
   "metadata": {},
   "source": [
    "Comparison operators\n",
    "- \"<\"\n",
    "- \">\"\n",
    "- \"<=\"\n",
    "- \">=\"\n",
    "- \"==\"\n",
    "- \"!=\""
   ]
  },
  {
   "cell_type": "code",
   "execution_count": null,
   "id": "2cd18d03",
   "metadata": {},
   "outputs": [
    {
     "name": "stdout",
     "output_type": "stream",
     "text": [
      "True\n",
      "True\n",
      "True\n"
     ]
    }
   ],
   "source": [
    "price=25\n",
    "print(price>10 and price<30)\n",
    "price=5\n",
    "print(price>10 or price<30)\n",
    "price=5\n",
    "print(not price>10)"
   ]
  },
  {
   "cell_type": "markdown",
   "id": "12173d48",
   "metadata": {},
   "source": [
    "Logical operators\n",
    "\n",
    "- and\n",
    "- or\n",
    "- not"
   ]
  },
  {
   "cell_type": "code",
   "execution_count": 2,
   "id": "d6bcb083",
   "metadata": {},
   "outputs": [
    {
     "name": "stdout",
     "output_type": "stream",
     "text": [
      "False\n",
      "False\n",
      "True\n",
      "True\n",
      "True\n"
     ]
    }
   ],
   "source": [
    "x=True\n",
    "y=False\n",
    "z=True\n",
    "\n",
    "print(not x)\n",
    "print(x and y)\n",
    "print(x or y)\n",
    "print(y or x)\n",
    "print(x and z)"
   ]
  },
  {
   "cell_type": "code",
   "execution_count": null,
   "id": "df6cfa4c",
   "metadata": {},
   "outputs": [],
   "source": [
    "meaning= 8\n",
    "print('')\n",
    "\n",
    "if meaning>10:\n",
    "    print('Right on!')\n",
    "else:\n",
    "    print('Not today')"
   ]
  },
  {
   "cell_type": "markdown",
   "id": "9da66ec9",
   "metadata": {},
   "source": [
    "Ternary operator"
   ]
  },
  {
   "cell_type": "code",
   "execution_count": 7,
   "id": "2cb7cfb8",
   "metadata": {},
   "outputs": [
    {
     "name": "stdout",
     "output_type": "stream",
     "text": [
      "\n",
      "Not today\n"
     ]
    }
   ],
   "source": [
    "meaning= 8\n",
    "print('')\n",
    "print('Right on') if meaning >10 else print ('Not today')"
   ]
  },
  {
   "cell_type": "markdown",
   "id": "be036cac",
   "metadata": {},
   "source": [
    "Bitwise Operators\n",
    "- Complement(~)\n",
    "- And(&)\n",
    "- Or(|)\n",
    "- Xor(^)\n",
    "- Left shift\n",
    "- Right shift"
   ]
  },
  {
   "cell_type": "markdown",
   "id": "3a4d0535",
   "metadata": {},
   "source": [
    "to find ~n \n",
    "- x=binary(n)\n",
    "- y=~(n)\n",
    "- a=y-1\n",
    "- b=~a"
   ]
  },
  {
   "cell_type": "code",
   "execution_count": 12,
   "id": "4b4805c6",
   "metadata": {},
   "outputs": [
    {
     "data": {
      "text/plain": [
       "-23"
      ]
     },
     "execution_count": 12,
     "metadata": {},
     "output_type": "execute_result"
    }
   ],
   "source": [
    "~22"
   ]
  },
  {
   "cell_type": "code",
   "execution_count": 9,
   "id": "957bd87d",
   "metadata": {},
   "outputs": [
    {
     "data": {
      "text/plain": [
       "12"
      ]
     },
     "execution_count": 9,
     "metadata": {},
     "output_type": "execute_result"
    }
   ],
   "source": [
    "12 & 13"
   ]
  },
  {
   "cell_type": "code",
   "execution_count": 10,
   "id": "cd595430",
   "metadata": {},
   "outputs": [
    {
     "data": {
      "text/plain": [
       "13"
      ]
     },
     "execution_count": 10,
     "metadata": {},
     "output_type": "execute_result"
    }
   ],
   "source": [
    "12|13"
   ]
  },
  {
   "cell_type": "code",
   "execution_count": 14,
   "id": "1e791995",
   "metadata": {},
   "outputs": [
    {
     "data": {
      "text/plain": [
       "1"
      ]
     },
     "execution_count": 14,
     "metadata": {},
     "output_type": "execute_result"
    }
   ],
   "source": [
    "12^13\n",
    "# odd number of 1's give 1"
   ]
  },
  {
   "cell_type": "code",
   "execution_count": 15,
   "id": "59dd2f2e",
   "metadata": {},
   "outputs": [
    {
     "data": {
      "text/plain": [
       "40"
      ]
     },
     "execution_count": 15,
     "metadata": {},
     "output_type": "execute_result"
    }
   ],
   "source": [
    "10<<2"
   ]
  },
  {
   "cell_type": "code",
   "execution_count": 16,
   "id": "1c724f7f",
   "metadata": {},
   "outputs": [
    {
     "data": {
      "text/plain": [
       "2"
      ]
     },
     "execution_count": 16,
     "metadata": {},
     "output_type": "execute_result"
    }
   ],
   "source": [
    "10>>2"
   ]
  },
  {
   "cell_type": "markdown",
   "id": "92f8f9c0",
   "metadata": {},
   "source": [
    "Identity Operators\n",
    "- is\n",
    "- is not"
   ]
  },
  {
   "cell_type": "code",
   "execution_count": 25,
   "id": "261aa7bf",
   "metadata": {},
   "outputs": [
    {
     "name": "stdout",
     "output_type": "stream",
     "text": [
      "True\n",
      "False\n",
      "False\n",
      "True\n",
      "140721282108280\n",
      "140721282108120\n",
      "140721282108120\n"
     ]
    }
   ],
   "source": [
    "x=10 \n",
    "y=10\n",
    "z=x\n",
    "print(x is y)\n",
    "x=15\n",
    "print(x is z)\n",
    "print(x is y)\n",
    "print(y is z)\n",
    "print(id(x))\n",
    "print(id(y))\n",
    "print(id(z))"
   ]
  },
  {
   "cell_type": "code",
   "execution_count": 26,
   "id": "0619647d",
   "metadata": {},
   "outputs": [
    {
     "data": {
      "text/plain": [
       "True"
      ]
     },
     "execution_count": 26,
     "metadata": {},
     "output_type": "execute_result"
    }
   ],
   "source": [
    "str1='Hii'\n",
    "str2='Hii'\n",
    "str1 is str2"
   ]
  },
  {
   "cell_type": "code",
   "execution_count": 27,
   "id": "ca5127e2",
   "metadata": {},
   "outputs": [
    {
     "data": {
      "text/plain": [
       "False"
      ]
     },
     "execution_count": 27,
     "metadata": {},
     "output_type": "execute_result"
    }
   ],
   "source": [
    "list1=[10,20,30]\n",
    "list2=[10,20,30]\n",
    "list1 is list2"
   ]
  },
  {
   "cell_type": "code",
   "execution_count": 28,
   "id": "a85106d1",
   "metadata": {},
   "outputs": [
    {
     "data": {
      "text/plain": [
       "True"
      ]
     },
     "execution_count": 28,
     "metadata": {},
     "output_type": "execute_result"
    }
   ],
   "source": [
    "x=None\n",
    "y=None\n",
    "x is y"
   ]
  },
  {
   "cell_type": "markdown",
   "id": "6d6cfc8a",
   "metadata": {},
   "source": [
    "Memebership Operators\n",
    "- in \n",
    "- not in"
   ]
  },
  {
   "cell_type": "code",
   "execution_count": 31,
   "id": "b281f79f",
   "metadata": {},
   "outputs": [
    {
     "name": "stdout",
     "output_type": "stream",
     "text": [
      "True False\n"
     ]
    }
   ],
   "source": [
    "list1=[10,20,30]\n",
    "print(10 in list1,\n",
    "10 not in list1)"
   ]
  },
  {
   "cell_type": "code",
   "execution_count": 33,
   "id": "e900f579",
   "metadata": {},
   "outputs": [
    {
     "name": "stdout",
     "output_type": "stream",
     "text": [
      "GG\n"
     ]
    }
   ],
   "source": [
    "user=['A','B','C','D']\n",
    "name=input('Enter your name: ')\n",
    "if name in user:\n",
    "    print('GG')\n",
    "else:\n",
    "    print('error!')"
   ]
  }
 ],
 "metadata": {
  "kernelspec": {
   "display_name": "Python 3",
   "language": "python",
   "name": "python3"
  },
  "language_info": {
   "codemirror_mode": {
    "name": "ipython",
    "version": 3
   },
   "file_extension": ".py",
   "mimetype": "text/x-python",
   "name": "python",
   "nbconvert_exporter": "python",
   "pygments_lexer": "ipython3",
   "version": "3.12.10"
  }
 },
 "nbformat": 4,
 "nbformat_minor": 5
}
