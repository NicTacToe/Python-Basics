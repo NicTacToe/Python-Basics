{
 "cells": [
  {
   "cell_type": "code",
   "execution_count": null,
   "id": "edce20df",
   "metadata": {},
   "outputs": [
    {
     "name": "stdout",
     "output_type": "stream",
     "text": [
      "Nakshatra kakani\n"
     ]
    }
   ],
   "source": [
    "#Strings"
   ]
  },
  {
   "cell_type": "code",
   "execution_count": 4,
   "id": "40406162",
   "metadata": {},
   "outputs": [
    {
     "name": "stdout",
     "output_type": "stream",
     "text": [
      "Nakshatra kakani\n",
      "Nakshatra\n",
      "kakani\n",
      "Nakshatra\"kakani\n"
     ]
    }
   ],
   "source": [
    "print(\"Nakshatra kakani\")\n",
    "print(\"Nakshatra\\nkakani\")\n",
    "print(\"Nakshatra\\\"kakani\")"
   ]
  },
  {
   "cell_type": "code",
   "execution_count": 5,
   "id": "a29c5f6e",
   "metadata": {},
   "outputs": [
    {
     "name": "stdout",
     "output_type": "stream",
     "text": [
      "Naksh\n"
     ]
    }
   ],
   "source": [
    "a='Naksh'\n",
    "print(a)"
   ]
  },
  {
   "cell_type": "code",
   "execution_count": 7,
   "id": "23c0a97c",
   "metadata": {},
   "outputs": [
    {
     "name": "stdout",
     "output_type": "stream",
     "text": [
      "Apple\n",
      "peple\n"
     ]
    }
   ],
   "source": [
    "a='Ap'\n",
    "b='ple'\n",
    "print(a+b)\n",
    "print('pe'+b)"
   ]
  },
  {
   "cell_type": "code",
   "execution_count": 11,
   "id": "2466ba02",
   "metadata": {},
   "outputs": [
    {
     "name": "stdout",
     "output_type": "stream",
     "text": [
      "nakshatra\n",
      "NAKSHATRA\n",
      "False\n"
     ]
    }
   ],
   "source": [
    "x='Nakshatra'\n",
    "print(x.lower())\n",
    "print(x.upper())\n",
    "print(x.isupper())"
   ]
  },
  {
   "cell_type": "code",
   "execution_count": 12,
   "id": "c5ae6ab4",
   "metadata": {},
   "outputs": [
    {
     "name": "stdout",
     "output_type": "stream",
     "text": [
      "True\n"
     ]
    }
   ],
   "source": [
    "print(x.upper().isupper())"
   ]
  },
  {
   "cell_type": "code",
   "execution_count": 18,
   "id": "7af97f53",
   "metadata": {},
   "outputs": [
    {
     "name": "stdout",
     "output_type": "stream",
     "text": [
      "9\n",
      "N\n",
      "1\n",
      "Nbbbbatra\n"
     ]
    }
   ],
   "source": [
    "print(len(x))\n",
    "print(x[0])\n",
    "print(x.index('aksh'))\n",
    "print(x.replace('aksh','bbbb'))"
   ]
  },
  {
   "cell_type": "code",
   "execution_count": 19,
   "id": "a85f5c25",
   "metadata": {},
   "outputs": [],
   "source": [
    "#Lists"
   ]
  },
  {
   "cell_type": "code",
   "execution_count": 26,
   "id": "ea1d56da",
   "metadata": {},
   "outputs": [
    {
     "name": "stdout",
     "output_type": "stream",
     "text": [
      "[1, 2, 3]\n",
      "1\n",
      "3\n"
     ]
    }
   ],
   "source": [
    "a=[1,2,3]\n",
    "print(a)\n",
    "print(a[0])\n",
    "print(a[-1])"
   ]
  },
  {
   "cell_type": "code",
   "execution_count": null,
   "id": "dab15fbe",
   "metadata": {},
   "outputs": [
    {
     "name": "stdout",
     "output_type": "stream",
     "text": [
      "[2, 3]\n"
     ]
    }
   ],
   "source": [
    "print(a[1:])"
   ]
  },
  {
   "cell_type": "code",
   "execution_count": 29,
   "id": "488dbbee",
   "metadata": {},
   "outputs": [
    {
     "name": "stdout",
     "output_type": "stream",
     "text": [
      "['B', 'C']\n",
      "Z\n"
     ]
    }
   ],
   "source": [
    "b=['A','B','C','D','E']\n",
    "print(b[1:3])\n",
    "b[1]='Z'\n",
    "print(b[1])"
   ]
  },
  {
   "cell_type": "code",
   "execution_count": null,
   "id": "eaaea1c9",
   "metadata": {},
   "outputs": [
    {
     "name": "stdout",
     "output_type": "stream",
     "text": [
      "[21, 32, 43, 54, 'A', 'S', 'D', 'W']\n"
     ]
    }
   ],
   "source": [
    "list1=[21,32,43,54]\n",
    "list2=['A','S','D','W']\n",
    "list1.extend(list2)\n",
    "print(list1)\n"
   ]
  },
  {
   "cell_type": "code",
   "execution_count": 49,
   "id": "33a86505",
   "metadata": {},
   "outputs": [
    {
     "name": "stdout",
     "output_type": "stream",
     "text": [
      "[21, 'L', 32, 43, 54]\n"
     ]
    }
   ],
   "source": [
    "list1=[21,32,43,54]\n",
    "list2=['A','S','D','W']\n",
    "list1.insert(1,'L')\n",
    "print(list1)"
   ]
  },
  {
   "cell_type": "code",
   "execution_count": 50,
   "id": "1a71505c",
   "metadata": {},
   "outputs": [
    {
     "name": "stdout",
     "output_type": "stream",
     "text": [
      "['A', 'D', 'W']\n",
      "[]\n"
     ]
    }
   ],
   "source": [
    "list1=[21,32,43,54]\n",
    "list2=['A','S','D','W']\n",
    "list2.remove('S')\n",
    "print(list2)\n",
    "list2.clear()\n",
    "print(list2)"
   ]
  },
  {
   "cell_type": "code",
   "execution_count": 56,
   "id": "f1263b97",
   "metadata": {},
   "outputs": [
    {
     "name": "stdout",
     "output_type": "stream",
     "text": [
      "['A', 'S', 'D']\n",
      "2\n"
     ]
    },
    {
     "ename": "ValueError",
     "evalue": "'A' is not in list",
     "output_type": "error",
     "traceback": [
      "\u001b[31m---------------------------------------------------------------------------\u001b[39m",
      "\u001b[31mValueError\u001b[39m                                Traceback (most recent call last)",
      "\u001b[36mCell\u001b[39m\u001b[36m \u001b[39m\u001b[32mIn[56]\u001b[39m\u001b[32m, line 6\u001b[39m\n\u001b[32m      4\u001b[39m \u001b[38;5;28mprint\u001b[39m(list2)\n\u001b[32m      5\u001b[39m \u001b[38;5;28mprint\u001b[39m(list1.index(\u001b[32m43\u001b[39m))\n\u001b[32m----> \u001b[39m\u001b[32m6\u001b[39m \u001b[38;5;28mprint\u001b[39m(\u001b[43mlist1\u001b[49m\u001b[43m.\u001b[49m\u001b[43mindex\u001b[49m\u001b[43m(\u001b[49m\u001b[33;43m\"\u001b[39;49m\u001b[33;43mA\u001b[39;49m\u001b[33;43m\"\u001b[39;49m\u001b[43m)\u001b[49m)\n",
      "\u001b[31mValueError\u001b[39m: 'A' is not in list"
     ]
    }
   ],
   "source": [
    "list1=[21,32,43,54]\n",
    "list2=['A','S','D','W']\n",
    "list2.pop()\n",
    "print(list2)\n",
    "print(list1.index(43))\n",
    "print(list1.index(\"A\"))"
   ]
  },
  {
   "cell_type": "code",
   "execution_count": 65,
   "id": "ead730f7",
   "metadata": {},
   "outputs": [
    {
     "name": "stdout",
     "output_type": "stream",
     "text": [
      "[1, 2, 2, 2, 3, 3, 4, 5, 6, 7]\n",
      "[7, 6, 5, 2, 2, 4, 3, 3, 2, 1]\n",
      "[7, 6, 5, 2, 2, 4, 3, 3, 2, 1]\n"
     ]
    }
   ],
   "source": [
    "a=[1,2,3,3,4,2,2,5,6,7]\n",
    "a.count(2)\n",
    "a.sort()\n",
    "print(a)\n",
    "a=[1,2,3,3,4,2,2,5,6,7]\n",
    "a.reverse()\n",
    "print(a)\n",
    "a2=a.copy()\n",
    "print(a2)"
   ]
  }
 ],
 "metadata": {
  "kernelspec": {
   "display_name": "Python 3",
   "language": "python",
   "name": "python3"
  },
  "language_info": {
   "codemirror_mode": {
    "name": "ipython",
    "version": 3
   },
   "file_extension": ".py",
   "mimetype": "text/x-python",
   "name": "python",
   "nbconvert_exporter": "python",
   "pygments_lexer": "ipython3",
   "version": "3.12.10"
  }
 },
 "nbformat": 4,
 "nbformat_minor": 5
}
