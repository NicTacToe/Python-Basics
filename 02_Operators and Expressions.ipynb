{
 "cells": [
  {
   "cell_type": "code",
   "execution_count": 2,
   "id": "10d3ca99",
   "metadata": {},
   "outputs": [
    {
     "name": "stdout",
     "output_type": "stream",
     "text": [
      "13\n",
      "7\n",
      "30\n",
      "3.3333333333333335\n",
      "3\n",
      "1\n",
      "1000\n"
     ]
    }
   ],
   "source": [
    "#Arithmetic Operators\n",
    "print(10+3)\n",
    "print(10-3)\n",
    "print(10*3)\n",
    "print(10/3)\n",
    "print(10//3)\n",
    "print(10%3)\n",
    "print(10**3)"
   ]
  },
  {
   "cell_type": "code",
   "execution_count": 6,
   "id": "fbd7bc7f",
   "metadata": {},
   "outputs": [
    {
     "name": "stdout",
     "output_type": "stream",
     "text": [
      "13\n"
     ]
    }
   ],
   "source": [
    "#Assignment Operator\n",
    "x=10\n",
    "x+=3\n",
    "print(x)"
   ]
  },
  {
   "cell_type": "code",
   "execution_count": null,
   "id": "8889cf60",
   "metadata": {},
   "outputs": [
    {
     "name": "stdout",
     "output_type": "stream",
     "text": [
      "16\n",
      "26\n"
     ]
    }
   ],
   "source": [
    "x=10+3*2\n",
    "print(x)\n",
    "x=(10+3)*2\n",
    "print(x)"
   ]
  },
  {
   "cell_type": "code",
   "execution_count": 3,
   "id": "badfcf86",
   "metadata": {},
   "outputs": [
    {
     "name": "stdout",
     "output_type": "stream",
     "text": [
      "True\n"
     ]
    }
   ],
   "source": [
    "x=3>2\n",
    "print(x)"
   ]
  },
  {
   "cell_type": "code",
   "execution_count": 4,
   "id": "86b91242",
   "metadata": {},
   "outputs": [
    {
     "name": "stdout",
     "output_type": "stream",
     "text": [
      "False\n"
     ]
    }
   ],
   "source": [
    "x=3==2\n",
    "print(x)"
   ]
  },
  {
   "cell_type": "markdown",
   "id": "d510f388",
   "metadata": {},
   "source": [
    "Comparison operators\n",
    "- \"<\"\n",
    "- \">\"\n",
    "- \"<=\"\n",
    "- \">=\"\n",
    "- \"==\"\n",
    "- \"!=\""
   ]
  },
  {
   "cell_type": "code",
   "execution_count": null,
   "id": "2cd18d03",
   "metadata": {},
   "outputs": [
    {
     "name": "stdout",
     "output_type": "stream",
     "text": [
      "True\n",
      "True\n",
      "True\n"
     ]
    }
   ],
   "source": [
    "price=25\n",
    "print(price>10 and price<30)\n",
    "price=5\n",
    "print(price>10 or price<30)\n",
    "price=5\n",
    "print(not price>10)"
   ]
  },
  {
   "cell_type": "markdown",
   "id": "12173d48",
   "metadata": {},
   "source": [
    "Logical operators\n",
    "\n",
    "- and\n",
    "- or\n",
    "- not"
   ]
  },
  {
   "cell_type": "markdown",
   "id": "f8b8f4d5",
   "metadata": {},
   "source": [
    "Exercise"
   ]
  }
 ],
 "metadata": {
  "kernelspec": {
   "display_name": "Python 3",
   "language": "python",
   "name": "python3"
  },
  "language_info": {
   "codemirror_mode": {
    "name": "ipython",
    "version": 3
   },
   "file_extension": ".py",
   "mimetype": "text/x-python",
   "name": "python",
   "nbconvert_exporter": "python",
   "pygments_lexer": "ipython3",
   "version": "3.12.10"
  }
 },
 "nbformat": 4,
 "nbformat_minor": 5
}
