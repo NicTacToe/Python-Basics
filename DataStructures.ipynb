{
 "cells": [
  {
   "cell_type": "markdown",
   "id": "dc0031b8",
   "metadata": {},
   "source": [
    "# Experiment 4: Data Structures"
   ]
  },
  {
   "cell_type": "markdown",
   "id": "6e72729d",
   "metadata": {},
   "source": [
    "***"
   ]
  },
  {
   "cell_type": "markdown",
   "id": "a373cd41",
   "metadata": {},
   "source": [
    "Strings"
   ]
  },
  {
   "cell_type": "code",
   "execution_count": 1,
   "id": "c067befb",
   "metadata": {},
   "outputs": [
    {
     "name": "stdout",
     "output_type": "stream",
     "text": [
      "Nicket\n"
     ]
    }
   ],
   "source": [
    "print(\"Nicket\")"
   ]
  },
  {
   "cell_type": "code",
   "execution_count": 13,
   "id": "eb0a4688",
   "metadata": {},
   "outputs": [
    {
     "name": "stdout",
     "output_type": "stream",
     "text": [
      "5\n"
     ]
    }
   ],
   "source": [
    "a = 5\n",
    "print(a)"
   ]
  },
  {
   "cell_type": "code",
   "execution_count": 5,
   "id": "d9e12d6d",
   "metadata": {},
   "outputs": [
    {
     "name": "stdout",
     "output_type": "stream",
     "text": [
      "my name is Nicket\n"
     ]
    }
   ],
   "source": [
    "name = \"Nicket\"\n",
    "print(\"my name is \" + name)"
   ]
  },
  {
   "cell_type": "code",
   "execution_count": 6,
   "id": "5f99a59c",
   "metadata": {},
   "outputs": [
    {
     "name": "stdout",
     "output_type": "stream",
     "text": [
      "this is Nicket's notebook\n"
     ]
    }
   ],
   "source": [
    "print(f\"this is {name}'s notebook\")"
   ]
  },
  {
   "cell_type": "code",
   "execution_count": 8,
   "id": "946cdc13",
   "metadata": {},
   "outputs": [
    {
     "name": "stdout",
     "output_type": "stream",
     "text": [
      "I am 18 years old.\n"
     ]
    }
   ],
   "source": [
    "age = 18\n",
    "print(\"I am \" + str(age) + \" years old.\")"
   ]
  },
  {
   "cell_type": "code",
   "execution_count": 10,
   "id": "16bbb5a9",
   "metadata": {},
   "outputs": [
    {
     "name": "stdout",
     "output_type": "stream",
     "text": [
      "stuff on line 1 \n",
      "stuff on line 2\n"
     ]
    }
   ],
   "source": [
    "print(\"stuff on line 1 \\nstuff on line 2\")"
   ]
  },
  {
   "cell_type": "code",
   "execution_count": 12,
   "id": "b4c0823f",
   "metadata": {},
   "outputs": [
    {
     "name": "stdout",
     "output_type": "stream",
     "text": [
      "some escape characters are: \n",
      "\t tab \n",
      "\n",
      " new line \n",
      "\\ backslash \n",
      "' single quote \n",
      "\" double quote\n"
     ]
    }
   ],
   "source": [
    "print(\"some escape characters are: \\n\\t tab \\n\\n new line \\n\\\\ backslash \\n\\' single quote \\n\\\" double quote\")"
   ]
  },
  {
   "cell_type": "markdown",
   "id": "c3608e01",
   "metadata": {},
   "source": [
    "String Functions"
   ]
  },
  {
   "cell_type": "code",
   "execution_count": 15,
   "id": "7ac49490",
   "metadata": {},
   "outputs": [],
   "source": [
    "fruit = \"BaNaNa\"\n"
   ]
  },
  {
   "cell_type": "code",
   "execution_count": 17,
   "id": "f2a718f4",
   "metadata": {},
   "outputs": [
    {
     "name": "stdout",
     "output_type": "stream",
     "text": [
      "banana\n",
      "BANANA\n",
      "Banana\n"
     ]
    }
   ],
   "source": [
    "print(fruit.lower())\n",
    "print(fruit.upper())\n",
    "print(fruit.capitalize())"
   ]
  },
  {
   "cell_type": "code",
   "execution_count": 19,
   "id": "d9614d9d",
   "metadata": {},
   "outputs": [
    {
     "name": "stdout",
     "output_type": "stream",
     "text": [
      "6\n",
      "B\n",
      "a\n",
      "BaN\n",
      "0\n"
     ]
    }
   ],
   "source": [
    "print(len(fruit))\n",
    "print(fruit[0])\n",
    "print(fruit[-1])\n",
    "print(fruit[0:3])\n",
    "print(fruit.index(\"B\"))\n"
   ]
  },
  {
   "cell_type": "code",
   "execution_count": 20,
   "id": "9d420a35",
   "metadata": {},
   "outputs": [
    {
     "name": "stdout",
     "output_type": "stream",
     "text": [
      "BoNoNo\n",
      "3\n"
     ]
    }
   ],
   "source": [
    "print(fruit.replace(\"a\", \"o\"))\n",
    "print(fruit.count(\"a\"))"
   ]
  },
  {
   "cell_type": "markdown",
   "id": "03ad1019",
   "metadata": {},
   "source": [
    "Lists"
   ]
  },
  {
   "cell_type": "code",
   "execution_count": 22,
   "id": "adc66f09",
   "metadata": {},
   "outputs": [
    {
     "name": "stdout",
     "output_type": "stream",
     "text": [
      "['red', 'blue', 'green', 'yellow', 'purple', 'orange', 'black', 'white']\n"
     ]
    }
   ],
   "source": [
    "colors = [\"red\", \"blue\", \"green\", \"yellow\", \"purple\", \"orange\", \"black\", \"white\"]\n",
    "print(colors)"
   ]
  },
  {
   "cell_type": "code",
   "execution_count": 23,
   "id": "2390eddc",
   "metadata": {},
   "outputs": [
    {
     "name": "stdout",
     "output_type": "stream",
     "text": [
      "6\n",
      "red\n",
      "white\n",
      "['red']\n",
      "['red', 'blue', 'green', 'yellow', 'purple']\n",
      "2\n"
     ]
    }
   ],
   "source": [
    "print(len(fruit))\n",
    "print(colors[0])\n",
    "print(colors[-1])\n",
    "print(colors[0:1])\n",
    "print(colors[:5])\n",
    "print(colors.index(\"green\"))"
   ]
  },
  {
   "cell_type": "code",
   "execution_count": 24,
   "id": "a2baa62f",
   "metadata": {},
   "outputs": [
    {
     "name": "stdout",
     "output_type": "stream",
     "text": [
      "['red', 'blue', 'green', 'yellow', 'purple', 'orange', 'black', 'white', 'pink']\n",
      "['brown', 'red', 'blue', 'green', 'yellow', 'purple', 'orange', 'black', 'white', 'pink']\n",
      "['brown', 'red', 'blue', 'green', 'yellow', 'purple', 'orange', 'white', 'pink']\n",
      "['brown', 'red', 'blue', 'green', 'yellow', 'purple', 'orange', 'white']\n"
     ]
    }
   ],
   "source": [
    "colors.append(\"pink\")\n",
    "print(colors)\n",
    "\n",
    "colors.insert(0, \"brown\")\n",
    "print(colors)\n",
    "\n",
    "colors.remove(\"black\")\n",
    "print(colors)\n",
    "\n",
    "colors.pop()\n",
    "print(colors)"
   ]
  },
  {
   "cell_type": "code",
   "execution_count": 28,
   "id": "24391bce",
   "metadata": {},
   "outputs": [
    {
     "name": "stdout",
     "output_type": "stream",
     "text": [
      "[19, 21, 32, 45, 50]\n",
      "[50, 45, 32, 21, 19]\n",
      "167\n",
      "50\n",
      "19\n",
      "[]\n"
     ]
    }
   ],
   "source": [
    "temps = [32, 45, 21, 19, 50]\n",
    "\n",
    "temps.sort()\n",
    "print(temps)\n",
    "\n",
    "temps.reverse()\n",
    "print(temps)\n",
    "\n",
    "print(sum(temps))\n",
    "print(max(temps))\n",
    "print(min(temps))\n",
    "\n",
    "temps.clear()\n",
    "print(temps)\n"
   ]
  },
  {
   "cell_type": "code",
   "execution_count": 29,
   "id": "7af4eca3",
   "metadata": {},
   "outputs": [
    {
     "name": "stdout",
     "output_type": "stream",
     "text": [
      "['Noob', '007n7', 'Shedletsky', 'Builderman', 'Guest 1337', 'Two Time', 'Dusekkar', 'Elliot', 'Taph', 'Chance']\n",
      "['c00lkidd', '1x1x1x1', 'John Doe', 'Slasher', 'Noli']\n"
     ]
    }
   ],
   "source": [
    "survs = [\n",
    "    \"Noob\",\n",
    "    \"007n7\",\n",
    "    \"Shedletsky\",\n",
    "    \"Builderman\",\n",
    "    \"Guest 1337\",\n",
    "    \"Two Time\",\n",
    "    \"Dusekkar\",\n",
    "    \"Elliot\",\n",
    "    \"Taph\",\n",
    "    \"Chance\"\n",
    "]\n",
    "\n",
    "kills = [\n",
    "    \"c00lkidd\",\n",
    "    \"1x1x1x1\",\n",
    "    \"John Doe\",\n",
    "    \"Slasher\",\n",
    "    \"Noli\"\n",
    "]\n",
    "\n",
    "print(survs)\n",
    "print(kills)"
   ]
  },
  {
   "cell_type": "code",
   "execution_count": 30,
   "id": "4c9ede13",
   "metadata": {},
   "outputs": [
    {
     "name": "stdout",
     "output_type": "stream",
     "text": [
      "['Noob', '007n7', 'Shedletsky', 'Builderman', 'Guest 1337', 'Two Time', 'Dusekkar', 'Elliot', 'Taph', 'Chance', 'c00lkidd', '1x1x1x1', 'John Doe', 'Slasher', 'Noli']\n"
     ]
    }
   ],
   "source": [
    "survs.extend(kills)\n",
    "print(survs)"
   ]
  },
  {
   "cell_type": "markdown",
   "id": "f3e639ec",
   "metadata": {},
   "source": [
    "Tuples"
   ]
  },
  {
   "cell_type": "code",
   "execution_count": 31,
   "id": "14e644d8",
   "metadata": {},
   "outputs": [
    {
     "name": "stdout",
     "output_type": "stream",
     "text": [
      "(1, 2, 3, 4, 5)\n"
     ]
    }
   ],
   "source": [
    "tup = (1, 2, 3, 4, 5)\n",
    "print(tup)"
   ]
  },
  {
   "cell_type": "code",
   "execution_count": 32,
   "id": "ea2744e3",
   "metadata": {},
   "outputs": [
    {
     "name": "stdout",
     "output_type": "stream",
     "text": [
      "1\n",
      "(2, 3)\n"
     ]
    }
   ],
   "source": [
    "print(tup[0])\n",
    "print(tup[1:3])"
   ]
  },
  {
   "cell_type": "code",
   "execution_count": null,
   "id": "a14d3f74",
   "metadata": {},
   "outputs": [
    {
     "ename": "TypeError",
     "evalue": "'tuple' object does not support item assignment",
     "output_type": "error",
     "traceback": [
      "\u001b[31m---------------------------------------------------------------------------\u001b[39m",
      "\u001b[31mTypeError\u001b[39m                                 Traceback (most recent call last)",
      "\u001b[36mCell\u001b[39m\u001b[36m \u001b[39m\u001b[32mIn[33]\u001b[39m\u001b[32m, line 1\u001b[39m\n\u001b[32m----> \u001b[39m\u001b[32m1\u001b[39m \u001b[43mtup\u001b[49m\u001b[43m[\u001b[49m\u001b[32;43m0\u001b[39;49m\u001b[43m]\u001b[49m = \u001b[32m10\u001b[39m\n\u001b[32m      2\u001b[39m \u001b[38;5;28mprint\u001b[39m(tup)\n",
      "\u001b[31mTypeError\u001b[39m: 'tuple' object does not support item assignment"
     ]
    }
   ],
   "source": [
    "tup[0] = 10\n",
    "print(tup) # This will give an error because tuples are immutable"
   ]
  },
  {
   "cell_type": "code",
   "execution_count": 35,
   "id": "6d126bb3",
   "metadata": {},
   "outputs": [
    {
     "name": "stdout",
     "output_type": "stream",
     "text": [
      "[(1, 2), (3, 4), (5, 6)]\n",
      "[(7, 8), (3, 4), (5, 6)]\n",
      "[(7, 8), (3, 4), (5, 6), (9, 10)]\n"
     ]
    }
   ],
   "source": [
    "tupList = [(1, 2), (3, 4), (5, 6)]\n",
    "print(tupList)\n",
    "\n",
    "tupList[0] = (7, 8)\n",
    "print(tupList)\n",
    "\n",
    "tupList.append((9, 10))\n",
    "print(tupList)"
   ]
  },
  {
   "cell_type": "code",
   "execution_count": 36,
   "id": "be247b01",
   "metadata": {},
   "outputs": [
    {
     "name": "stdout",
     "output_type": "stream",
     "text": [
      "[1, 2, 3, 4, 5]\n"
     ]
    }
   ],
   "source": [
    "tupToList = list(tup)\n",
    "print(tupToList)"
   ]
  },
  {
   "cell_type": "markdown",
   "id": "0f0bcf6c",
   "metadata": {},
   "source": [
    "Sets"
   ]
  },
  {
   "cell_type": "code",
   "execution_count": 37,
   "id": "b0a83b7a",
   "metadata": {},
   "outputs": [
    {
     "name": "stdout",
     "output_type": "stream",
     "text": [
      "{1, 2, 3, 4, 5}\n",
      "{2, 3, 5}\n"
     ]
    }
   ],
   "source": [
    "sup = {1, 2, 3, 4, 5}\n",
    "print(sup)\n",
    "\n",
    "sub = {2,3,5}\n",
    "print(sub)"
   ]
  },
  {
   "cell_type": "code",
   "execution_count": 39,
   "id": "cacc16b5",
   "metadata": {},
   "outputs": [
    {
     "name": "stdout",
     "output_type": "stream",
     "text": [
      "{2, 3, 4, 5, 6}\n",
      "5\n"
     ]
    }
   ],
   "source": [
    "sup.add(6)\n",
    "sup.remove(1)\n",
    "print(sup)\n",
    "\n",
    "print(len(sup))\n"
   ]
  },
  {
   "cell_type": "code",
   "execution_count": null,
   "id": "423aa4a5",
   "metadata": {},
   "outputs": [
    {
     "name": "stdout",
     "output_type": "stream",
     "text": [
      "{2, 3, 4, 5, 6}\n",
      "{2, 3, 5}\n",
      "{4, 6}\n",
      "{4, 6}\n"
     ]
    }
   ],
   "source": [
    "print(sup | sub) # union\n",
    "print(sup & sub) # intersection\n",
    "print(sup - sub) # difference\n",
    "print(sup ^ sub) # symmetric difference"
   ]
  },
  {
   "cell_type": "code",
   "execution_count": 40,
   "id": "bad46e64",
   "metadata": {},
   "outputs": [
    {
     "name": "stdout",
     "output_type": "stream",
     "text": [
      "{2, 3, 4, 5, 6}\n",
      "{2, 3, 5}\n",
      "{4, 6}\n"
     ]
    }
   ],
   "source": [
    "print(sup.union(sub))\n",
    "print(sup.intersection(sub))\n",
    "print(sup.difference(sub))"
   ]
  },
  {
   "cell_type": "code",
   "execution_count": 42,
   "id": "0c8f47a8",
   "metadata": {},
   "outputs": [
    {
     "ename": "TypeError",
     "evalue": "'set' object is not subscriptable",
     "output_type": "error",
     "traceback": [
      "\u001b[31m---------------------------------------------------------------------------\u001b[39m",
      "\u001b[31mTypeError\u001b[39m                                 Traceback (most recent call last)",
      "\u001b[36mCell\u001b[39m\u001b[36m \u001b[39m\u001b[32mIn[42]\u001b[39m\u001b[32m, line 1\u001b[39m\n\u001b[32m----> \u001b[39m\u001b[32m1\u001b[39m \u001b[38;5;28mprint\u001b[39m(\u001b[43msup\u001b[49m\u001b[43m[\u001b[49m\u001b[32;43m2\u001b[39;49m\u001b[43m]\u001b[49m) \u001b[38;5;66;03m# This will give an error because sets are unordered\u001b[39;00m\n",
      "\u001b[31mTypeError\u001b[39m: 'set' object is not subscriptable"
     ]
    }
   ],
   "source": [
    "print(sup[2]) # This will give an error because sets are unordered"
   ]
  },
  {
   "cell_type": "code",
   "execution_count": 43,
   "id": "2d623359",
   "metadata": {},
   "outputs": [
    {
     "name": "stdout",
     "output_type": "stream",
     "text": [
      "2 is in the set\n"
     ]
    }
   ],
   "source": [
    "if 2 in sup:\n",
    "    print(\"2 is in the set\")"
   ]
  },
  {
   "cell_type": "markdown",
   "id": "40ca691f",
   "metadata": {},
   "source": [
    "Dictionaries"
   ]
  },
  {
   "cell_type": "code",
   "execution_count": 53,
   "id": "e7a81fbe",
   "metadata": {},
   "outputs": [
    {
     "name": "stdout",
     "output_type": "stream",
     "text": [
      "{'Nicket': 99, 'Alice': 25, 'Bob': 30}\n"
     ]
    }
   ],
   "source": [
    "budget = {\n",
    "    \"Nicket\": 99,\n",
    "    \"Alice\": 25,\n",
    "    \"Bob\": 30\n",
    "}\n",
    "\n",
    "print(budget)\n"
   ]
  },
  {
   "cell_type": "code",
   "execution_count": 54,
   "id": "d7797dd4",
   "metadata": {},
   "outputs": [
    {
     "name": "stdout",
     "output_type": "stream",
     "text": [
      "dict_keys(['Nicket', 'Alice', 'Bob'])\n",
      "dict_values([99, 25, 30])\n",
      "dict_items([('Nicket', 99), ('Alice', 25), ('Bob', 30)])\n"
     ]
    }
   ],
   "source": [
    "print(budget.keys())\n",
    "print(budget.values())\n",
    "print(budget.items())"
   ]
  },
  {
   "cell_type": "code",
   "execution_count": 55,
   "id": "82f512a1",
   "metadata": {},
   "outputs": [
    {
     "name": "stdout",
     "output_type": "stream",
     "text": [
      "{'Nicket': 99, 'Alice': 50, 'Bob': 30}\n"
     ]
    }
   ],
   "source": [
    "budget[\"Alice\"] = 50\n",
    "print(budget)"
   ]
  },
  {
   "cell_type": "code",
   "execution_count": 56,
   "id": "f2f52cf4",
   "metadata": {},
   "outputs": [
    {
     "name": "stdout",
     "output_type": "stream",
     "text": [
      "{'Nicket': 99, 'Alice': 50}\n"
     ]
    }
   ],
   "source": [
    "budget[\"Charlie\"] = 40\n",
    "budget.pop(\"Bob\")\n",
    "budget.popitem() # removes the last item\n",
    "print(budget)"
   ]
  },
  {
   "cell_type": "code",
   "execution_count": 58,
   "id": "db5a7c14",
   "metadata": {},
   "outputs": [
    {
     "name": "stdout",
     "output_type": "stream",
     "text": [
      "{'Nicket': 99, 'Alice': 50}\n",
      "{'Nicket': 100, 'Alice': 50}\n"
     ]
    }
   ],
   "source": [
    "copy = budget.copy()\n",
    "copy[\"Nicket\"] = 100\n",
    "\n",
    "print(budget)\n",
    "print(copy)"
   ]
  },
  {
   "cell_type": "code",
   "execution_count": 59,
   "id": "ec6d713a",
   "metadata": {},
   "outputs": [
    {
     "name": "stdout",
     "output_type": "stream",
     "text": [
      "99\n",
      "None\n",
      "Not Found\n"
     ]
    }
   ],
   "source": [
    "print(budget.get(\"Nicket\"))\n",
    "print(budget.get(\"David\"))\n",
    "print(budget.get(\"David\", \"Not Found\")) # returns Not Found if \"David\" is not found"
   ]
  },
  {
   "cell_type": "code",
   "execution_count": 61,
   "id": "5fa59f7c",
   "metadata": {},
   "outputs": [
    {
     "name": "stdout",
     "output_type": "stream",
     "text": [
      "99\n",
      "25\n",
      "{'Nicket': 99, 'Alice': 50, 'David': 25}\n"
     ]
    }
   ],
   "source": [
    "print(budget.setdefault(\"Nicket\", 25))\n",
    "print(budget.setdefault(\"David\", 25))\n",
    "print(budget)\n"
   ]
  },
  {
   "cell_type": "code",
   "execution_count": null,
   "id": "fc889f70",
   "metadata": {},
   "outputs": [
    {
     "name": "stdout",
     "output_type": "stream",
     "text": [
      "{'rent': None, 'food': None, 'utilities': None, 'transportation': None, 'entertainment': None}\n",
      "{'rent': 0, 'food': 0, 'utilities': 0, 'transportation': 0, 'entertainment': 0}\n"
     ]
    }
   ],
   "source": [
    "costs = {\n",
    "  \"rent\": 1000,\n",
    "  \"food\": 300,\n",
    "  \"utilities\": 150,\n",
    "  \"transportation\": 100,\n",
    "  \"entertainment\": 200\n",
    "}\n",
    "\n",
    "print(budget.fromkeys(costs))\n",
    "print(budget.fromkeys(costs, 0)) # creates new dictionary with keys from costs and values set to 0"
   ]
  },
  {
   "cell_type": "code",
   "execution_count": 65,
   "id": "a7c86cd9",
   "metadata": {},
   "outputs": [
    {
     "name": "stdout",
     "output_type": "stream",
     "text": [
      "Nicket: 99\n",
      "Alice: 50\n",
      "David: 25\n"
     ]
    }
   ],
   "source": [
    "for key, value in budget.items():\n",
    "    print(f\"{key}: {budget[key]}\")"
   ]
  },
  {
   "cell_type": "code",
   "execution_count": 66,
   "id": "3f98614c",
   "metadata": {},
   "outputs": [
    {
     "name": "stdout",
     "output_type": "stream",
     "text": [
      "{'Nicket': 99, 'Alice': 50, 'David': 25, 'Elliot': 75, 'Chance': 69}\n"
     ]
    }
   ],
   "source": [
    "budget.update({\"Elliot\": 75, \"Chance\": 69})\n",
    "print(budget)"
   ]
  },
  {
   "cell_type": "code",
   "execution_count": 67,
   "id": "f28de510",
   "metadata": {},
   "outputs": [
    {
     "name": "stdout",
     "output_type": "stream",
     "text": [
      "None\n"
     ]
    }
   ],
   "source": [
    "print(budget.clear())"
   ]
  }
 ],
 "metadata": {
  "kernelspec": {
   "display_name": "venv",
   "language": "python",
   "name": "python3"
  },
  "language_info": {
   "codemirror_mode": {
    "name": "ipython",
    "version": 3
   },
   "file_extension": ".py",
   "mimetype": "text/x-python",
   "name": "python",
   "nbconvert_exporter": "python",
   "pygments_lexer": "ipython3",
   "version": "3.13.5"
  }
 },
 "nbformat": 4,
 "nbformat_minor": 5
}
