{
 "cells": [
  {
   "cell_type": "code",
   "execution_count": null,
   "id": "3b2afd22",
   "metadata": {},
   "outputs": [],
   "source": [
    "temprature = 35 \n",
    "if temprature > 30:\n",
    "    print(\"It's a hot day\")\n",
    "    print(\"Drink plenty of water\")\n",
    "elif temprature > 20:\n",
    "    print(\"Its a nice day\")\n",
    "    print(\"Drink plenty of water\")\n",
    "elif temprature > 10:\n",
    "    print(\"Its cold\")\n",
    "print(\"Done\")"
   ]
  },
  {
   "cell_type": "code",
   "execution_count": 25,
   "id": "0ec47adf",
   "metadata": {},
   "outputs": [
    {
     "name": "stdout",
     "output_type": "stream",
     "text": [
      "Eligible\n"
     ]
    }
   ],
   "source": [
    "age=20\n",
    "message='Eligible' if age>=18 else \"Not eligible\"\n",
    "print(message)"
   ]
  },
  {
   "cell_type": "code",
   "execution_count": 3,
   "id": "09e85b23",
   "metadata": {},
   "outputs": [
    {
     "name": "stdout",
     "output_type": "stream",
     "text": [
      "0\n",
      "1\n",
      "2\n",
      "3\n",
      "4\n"
     ]
    }
   ],
   "source": [
    "for i in range(5):\n",
    "    print(i)"
   ]
  },
  {
   "cell_type": "code",
   "execution_count": 18,
   "id": "78dbf718",
   "metadata": {},
   "outputs": [
    {
     "name": "stdout",
     "output_type": "stream",
     "text": [
      "*\n",
      "**\n",
      "***\n",
      "****\n",
      "*****\n"
     ]
    }
   ],
   "source": [
    "i=1\n",
    "while i<=5:\n",
    "    print(i*'*')\n",
    "    i+=1"
   ]
  },
  {
   "cell_type": "code",
   "execution_count": 19,
   "id": "bdb04755",
   "metadata": {},
   "outputs": [
    {
     "name": "stdout",
     "output_type": "stream",
     "text": [
      "[1, 2, 3, 4, 5]\n"
     ]
    }
   ],
   "source": [
    "numbers=[1,2,3,4,5]\n",
    "print(numbers)"
   ]
  },
  {
   "cell_type": "code",
   "execution_count": 20,
   "id": "d91cda9d",
   "metadata": {},
   "outputs": [
    {
     "name": "stdout",
     "output_type": "stream",
     "text": [
      "1\n",
      "2\n",
      "3\n",
      "4\n",
      "5\n"
     ]
    }
   ],
   "source": [
    "for item in numbers:\n",
    "    print(item)"
   ]
  },
  {
   "cell_type": "code",
   "execution_count": 23,
   "id": "e9404c3c",
   "metadata": {},
   "outputs": [
    {
     "name": "stdout",
     "output_type": "stream",
     "text": [
      "1\n",
      "2\n",
      "3\n",
      "4\n",
      "5\n"
     ]
    }
   ],
   "source": [
    "i=0\n",
    "while i<len(numbers):\n",
    "    print(numbers[i])\n",
    "    i+=1"
   ]
  },
  {
   "cell_type": "code",
   "execution_count": 29,
   "id": "eed8d7e8",
   "metadata": {},
   "outputs": [
    {
     "name": "stdout",
     "output_type": "stream",
     "text": [
      "Not at age\n"
     ]
    }
   ],
   "source": [
    "age=17\n",
    "car='Yes'\n",
    "\n",
    "if(age>=18):\n",
    "    if car=='Yes':\n",
    "        print('GO')\n",
    "    else:\n",
    "        print('Buy a car')\n",
    "else:\n",
    "    print('Not at age')"
   ]
  },
  {
   "cell_type": "code",
   "execution_count": 33,
   "id": "58844ae1",
   "metadata": {},
   "outputs": [
    {
     "name": "stdout",
     "output_type": "stream",
     "text": [
      "Stupid\n"
     ]
    }
   ],
   "source": [
    "day=8\n",
    "match day:\n",
    "    case 1:\n",
    "        print('1')\n",
    "    case 2:\n",
    "        print('2')\n",
    "    case 3:\n",
    "        print('3')\n",
    "    case 4:\n",
    "        print('4')\n",
    "    case 5:\n",
    "        print('5')\n",
    "    case 6:\n",
    "        print('6')\n",
    "    case 7:\n",
    "        print('7')\n",
    "    case _:\n",
    "        print('Stupid')"
   ]
  },
  {
   "cell_type": "markdown",
   "id": "d40c908e",
   "metadata": {},
   "source": [
    "Exercise"
   ]
  },
  {
   "cell_type": "code",
   "execution_count": null,
   "id": "2859dbde",
   "metadata": {},
   "outputs": [],
   "source": [
    "a=float(input(\"Weight: \"))\n",
    "b=input(\"(k)gs or (l)bs \")\n",
    "b=b.upper()\n",
    "if b==\"K\":\n",
    "    print(\"Weight in pounds:\",a*2.20462)\n",
    "else:\n",
    "    print('Weight in kgs: ',a/2.20462)"
   ]
  },
  {
   "cell_type": "code",
   "execution_count": 41,
   "id": "3ee3632b",
   "metadata": {},
   "outputs": [
    {
     "name": "stdout",
     "output_type": "stream",
     "text": [
      "retry\n"
     ]
    }
   ],
   "source": [
    "list1=[1,2,3,4,5]\n",
    "list2=[6,7]\n",
    "numb=00\n",
    "match numb:\n",
    "    case n if n in list1:\n",
    "        print(True)\n",
    "    case n if n in list2:\n",
    "        print(False)\n",
    "    case _:\n",
    "        print('retry')"
   ]
  }
 ],
 "metadata": {
  "kernelspec": {
   "display_name": "Python 3",
   "language": "python",
   "name": "python3"
  },
  "language_info": {
   "codemirror_mode": {
    "name": "ipython",
    "version": 3
   },
   "file_extension": ".py",
   "mimetype": "text/x-python",
   "name": "python",
   "nbconvert_exporter": "python",
   "pygments_lexer": "ipython3",
   "version": "3.12.10"
  }
 },
 "nbformat": 4,
 "nbformat_minor": 5
}
