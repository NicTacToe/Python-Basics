{
 "cells": [
  {
   "cell_type": "code",
   "execution_count": null,
   "id": "edf4a94b",
   "metadata": {},
   "outputs": [],
   "source": [
    "#function is  reusble block of code"
   ]
  },
  {
   "cell_type": "code",
   "execution_count": null,
   "id": "7a005fc9",
   "metadata": {},
   "outputs": [
    {
     "name": "stdout",
     "output_type": "stream",
     "text": [
      "A\n"
     ]
    }
   ],
   "source": [
    "def a():\n",
    "    print('A')\n",
    "a()"
   ]
  },
  {
   "cell_type": "code",
   "execution_count": null,
   "id": "b4439c2e",
   "metadata": {},
   "outputs": [
    {
     "name": "stdout",
     "output_type": "stream",
     "text": [
      "hi Naksh\n"
     ]
    }
   ],
   "source": [
    "def name(Name):\n",
    "    print(f\"hi {Name}\")\n",
    "name(\"Naksh\")"
   ]
  },
  {
   "cell_type": "code",
   "execution_count": 8,
   "id": "14f30c42",
   "metadata": {},
   "outputs": [
    {
     "name": "stdout",
     "output_type": "stream",
     "text": [
      "Naksh's invoice of 300.00 is due on 10/02\n"
     ]
    }
   ],
   "source": [
    "def display_invoice(name, amount, duedate):\n",
    "    print(f\"{name}'s invoice of {amount:.2f} is due on {duedate}\")\n",
    "\n",
    "display_invoice('Naksh', 300, \"10/02\")"
   ]
  },
  {
   "cell_type": "code",
   "execution_count": null,
   "id": "e6e851be",
   "metadata": {},
   "outputs": [],
   "source": [
    "#return = sending the result bask to the caller"
   ]
  },
  {
   "cell_type": "code",
   "execution_count": 9,
   "id": "1e948914",
   "metadata": {},
   "outputs": [],
   "source": [
    "def add(x,y):\n",
    "    z=x+y\n",
    "    return z\n",
    "def sub(x,y):\n",
    "    z=x-y\n",
    "    return z\n",
    "def mul(x,y):\n",
    "    z=x*y\n",
    "    return z\n",
    "def div(x,y):\n",
    "    z=x/y\n",
    "    return z"
   ]
  },
  {
   "cell_type": "code",
   "execution_count": 12,
   "id": "9ffecf96",
   "metadata": {},
   "outputs": [
    {
     "name": "stdout",
     "output_type": "stream",
     "text": [
      "3 -1 2 0.5\n"
     ]
    }
   ],
   "source": [
    "print(add(1,2),\n",
    "sub(1,2),\n",
    "mul(1,2),\n",
    "div(1,2))"
   ]
  },
  {
   "cell_type": "code",
   "execution_count": 17,
   "id": "6b835f34",
   "metadata": {},
   "outputs": [
    {
     "name": "stdout",
     "output_type": "stream",
     "text": [
      "AB\n"
     ]
    }
   ],
   "source": [
    "def name(f,l):\n",
    "    f=f.capitalize()\n",
    "    l=l.capitalize()\n",
    "    return f+l\n",
    "\n",
    "full_name=name('A','B')\n",
    "print(full_name)"
   ]
  },
  {
   "cell_type": "code",
   "execution_count": 18,
   "id": "2e7f7b3a",
   "metadata": {},
   "outputs": [],
   "source": [
    "#default arguments are default parameters values"
   ]
  },
  {
   "cell_type": "code",
   "execution_count": 24,
   "id": "211992ae",
   "metadata": {},
   "outputs": [
    {
     "name": "stdout",
     "output_type": "stream",
     "text": [
      "10.5\n",
      "8.4\n",
      "9.0\n"
     ]
    }
   ],
   "source": [
    "def net_price(listprice, discount=0, tax=0.05):\n",
    "    return listprice * (1 - discount)* (1+tax)\n",
    "\n",
    "print(net_price(10))\n",
    "print(net_price(10,0.2))\n",
    "print(net_price(10,0.1,0))"
   ]
  },
  {
   "cell_type": "code",
   "execution_count": 26,
   "id": "031bd0c7",
   "metadata": {},
   "outputs": [],
   "source": [
    "import time"
   ]
  },
  {
   "cell_type": "code",
   "execution_count": 34,
   "id": "7e4f8a24",
   "metadata": {},
   "outputs": [
    {
     "name": "stdout",
     "output_type": "stream",
     "text": [
      "0\n",
      "1\n",
      "2\n",
      "3\n",
      "4\n",
      "5\n",
      "Done\n"
     ]
    }
   ],
   "source": [
    "def count(end, start=0):\n",
    "    for x in range(start, end+1):\n",
    "        print(x)\n",
    "        time.sleep(1)\n",
    "    print('Done')\n",
    "\n",
    "count(5)"
   ]
  },
  {
   "cell_type": "code",
   "execution_count": null,
   "id": "b1d6c5ac",
   "metadata": {},
   "outputs": [],
   "source": [
    "#Lambda Function"
   ]
  },
  {
   "cell_type": "code",
   "execution_count": 7,
   "id": "e20d3206",
   "metadata": {},
   "outputs": [
    {
     "name": "stdout",
     "output_type": "stream",
     "text": [
      "2\n",
      "9\n"
     ]
    }
   ],
   "source": [
    "add_1= lambda x: x+1\n",
    "result=add_1(1)\n",
    "print(result)\n",
    "\n",
    "add_1= lambda x,y: x+y\n",
    "result=add_1(1,8)\n",
    "print(result)"
   ]
  },
  {
   "cell_type": "code",
   "execution_count": null,
   "id": "28f6b1a0",
   "metadata": {},
   "outputs": [
    {
     "name": "stdout",
     "output_type": "stream",
     "text": [
      "[1, 4, 9, 16, 25, 36, 49, 64]\n"
     ]
    }
   ],
   "source": [
    "mynums=[1,2,3,4,5,6,7,8]\n",
    "events=list(map(lambda x: x*x,mynums))\n",
    "print(events)"
   ]
  },
  {
   "cell_type": "code",
   "execution_count": 13,
   "id": "89624e15",
   "metadata": {},
   "outputs": [
    {
     "name": "stdout",
     "output_type": "stream",
     "text": [
      "[2, 4, 6, 8]\n"
     ]
    }
   ],
   "source": [
    "mynums=[1,2,3,4,5,6,7,8]\n",
    "event=list(filter(lambda x: x%2==0, mynums))\n",
    "print(event)"
   ]
  },
  {
   "cell_type": "code",
   "execution_count": 17,
   "id": "2f285bd0",
   "metadata": {},
   "outputs": [
    {
     "name": "stdout",
     "output_type": "stream",
     "text": [
      "[(2, 'a', 'Hello'), (1, 'b', 'HEY'), (3, 'c', 'zzz')]\n"
     ]
    }
   ],
   "source": [
    "values=[(1,'b','HEY'),(2,'a','Hello'),(3,'c','zzz')]\n",
    "\n",
    "sort=sorted(values, key=lambda x:x[1])\n",
    "print(list(sort))"
   ]
  },
  {
   "cell_type": "code",
   "execution_count": null,
   "id": "d37185d9",
   "metadata": {},
   "outputs": [],
   "source": [
    "#Variable Scope\n",
    "#local> global \n",
    "#Local>Enclosing>Global>Built-in"
   ]
  },
  {
   "cell_type": "code",
   "execution_count": 19,
   "id": "a6c135c1",
   "metadata": {},
   "outputs": [
    {
     "name": "stdout",
     "output_type": "stream",
     "text": [
      "a\n",
      "b\n",
      "None\n"
     ]
    }
   ],
   "source": [
    "name='a'\n",
    "\n",
    "def displayname():\n",
    "    name='b'\n",
    "    print(name)\n",
    "\n",
    "print(name)\n",
    "print(displayname())"
   ]
  },
  {
   "cell_type": "code",
   "execution_count": 20,
   "id": "5ba60850",
   "metadata": {},
   "outputs": [],
   "source": [
    "#recursion"
   ]
  },
  {
   "cell_type": "code",
   "execution_count": 25,
   "id": "516c24b7",
   "metadata": {},
   "outputs": [
    {
     "name": "stdout",
     "output_type": "stream",
     "text": [
      "you take 1\n",
      "you take 2\n",
      "you take 3\n",
      "you take 4\n",
      "you take 5\n",
      "you take 6\n",
      "you take 7\n",
      "you take 8\n",
      "you take 9\n",
      "you take 10\n"
     ]
    }
   ],
   "source": [
    "def walk(steps):\n",
    "    if steps == 0:\n",
    "        return\n",
    "    walk(steps-1)\n",
    "    print(f\"you take {steps}\")\n",
    "\n",
    "\n",
    "walk(10)"
   ]
  },
  {
   "cell_type": "code",
   "execution_count": 32,
   "id": "e7c021f2",
   "metadata": {},
   "outputs": [
    {
     "data": {
      "text/plain": [
       "3628800"
      ]
     },
     "execution_count": 32,
     "metadata": {},
     "output_type": "execute_result"
    }
   ],
   "source": [
    "def factorial(x):\n",
    "    if x==1:\n",
    "        return 1\n",
    "    else:\n",
    "        return x*factorial(x-1)\n",
    "factorial(10)"
   ]
  }
 ],
 "metadata": {
  "kernelspec": {
   "display_name": "Python 3",
   "language": "python",
   "name": "python3"
  },
  "language_info": {
   "codemirror_mode": {
    "name": "ipython",
    "version": 3
   },
   "file_extension": ".py",
   "mimetype": "text/x-python",
   "name": "python",
   "nbconvert_exporter": "python",
   "pygments_lexer": "ipython3",
   "version": "3.12.10"
  }
 },
 "nbformat": 4,
 "nbformat_minor": 5
}
