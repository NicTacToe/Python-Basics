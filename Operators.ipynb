{
 "cells": [
  {
   "cell_type": "markdown",
   "id": "754fdc4c",
   "metadata": {},
   "source": [
    "# Experiment 2: Operators and Expressions"
   ]
  },
  {
   "cell_type": "markdown",
   "id": "548b740d",
   "metadata": {},
   "source": [
    "***"
   ]
  },
  {
   "cell_type": "markdown",
   "id": "787efc4c",
   "metadata": {},
   "source": [
    "Arithmetic Operations (+, -, *, /)"
   ]
  },
  {
   "cell_type": "code",
   "execution_count": 9,
   "id": "26f6f35d",
   "metadata": {},
   "outputs": [],
   "source": [
    "a = 10;\n",
    "b = 3;\n",
    "add = a + b;\n",
    "sub = a - b;\n",
    "mult = a * b;\n",
    "div = a / b;"
   ]
  },
  {
   "cell_type": "code",
   "execution_count": 10,
   "id": "26d2acad",
   "metadata": {},
   "outputs": [
    {
     "name": "stdout",
     "output_type": "stream",
     "text": [
      "13\n",
      "7\n",
      "30\n",
      "3.3333333333333335\n"
     ]
    }
   ],
   "source": [
    "print(add);\n",
    "print(sub);\n",
    "print(mult);\n",
    "print(div);"
   ]
  },
  {
   "cell_type": "markdown",
   "id": "df6cfee1",
   "metadata": {},
   "source": [
    "Advanced Arithmetic Operators (%, **, //)"
   ]
  },
  {
   "cell_type": "code",
   "execution_count": 11,
   "id": "76a24b96",
   "metadata": {},
   "outputs": [],
   "source": [
    "mod = a % b;\n",
    "exp = a ** b;\n",
    "intdiv = a // b;"
   ]
  },
  {
   "cell_type": "code",
   "execution_count": 12,
   "id": "21b6cc2f",
   "metadata": {},
   "outputs": [
    {
     "name": "stdout",
     "output_type": "stream",
     "text": [
      "1\n",
      "1000\n",
      "3\n"
     ]
    }
   ],
   "source": [
    "print(mod);\n",
    "print(exp);\n",
    "print(intdiv);"
   ]
  },
  {
   "cell_type": "markdown",
   "id": "ff2f6a0c",
   "metadata": {},
   "source": [
    "Assignment Operators"
   ]
  },
  {
   "cell_type": "code",
   "execution_count": 13,
   "id": "08520d10",
   "metadata": {},
   "outputs": [
    {
     "name": "stdout",
     "output_type": "stream",
     "text": [
      "35\n"
     ]
    }
   ],
   "source": [
    "a = 30\n",
    "a += 5\n",
    "print(a)"
   ]
  },
  {
   "cell_type": "code",
   "execution_count": 14,
   "id": "78c15570",
   "metadata": {},
   "outputs": [
    {
     "name": "stdout",
     "output_type": "stream",
     "text": [
      "16\n",
      "36\n"
     ]
    }
   ],
   "source": [
    "a = 10 + 2 * 3\n",
    "print(a)\n",
    "\n",
    "a = (10 + 2) * 3\n",
    "print(a)"
   ]
  },
  {
   "cell_type": "markdown",
   "id": "8f28fa0a",
   "metadata": {},
   "source": [
    "Comparison Operators (<, >, <=, >=, ==, !=)"
   ]
  },
  {
   "cell_type": "code",
   "execution_count": 15,
   "id": "9fcc0b68",
   "metadata": {},
   "outputs": [],
   "source": [
    "a = 5\n",
    "b = 10"
   ]
  },
  {
   "cell_type": "code",
   "execution_count": 16,
   "id": "12ebafb0",
   "metadata": {},
   "outputs": [
    {
     "name": "stdout",
     "output_type": "stream",
     "text": [
      "True\n",
      "False\n",
      "True\n",
      "False\n",
      "False\n",
      "True\n"
     ]
    }
   ],
   "source": [
    "print(a < b)\n",
    "print(a > b)\n",
    "print(a <= b)\n",
    "print(a >= b)\n",
    "print(a == b)\n",
    "print(a != b)"
   ]
  },
  {
   "cell_type": "markdown",
   "id": "6f8e07f8",
   "metadata": {},
   "source": [
    "Logical Operators (and, or, not)"
   ]
  },
  {
   "cell_type": "code",
   "execution_count": null,
   "id": "aa27a0f1",
   "metadata": {},
   "outputs": [],
   "source": [
    "x = True\n",
    "y = False"
   ]
  },
  {
   "cell_type": "code",
   "execution_count": null,
   "id": "7ba75a34",
   "metadata": {},
   "outputs": [],
   "source": [
    "print(x and y)\n",
    "print(x or y)\n",
    "print(not x)"
   ]
  },
  {
   "cell_type": "markdown",
   "id": "21ee5012",
   "metadata": {},
   "source": [
    "Ternary Operator"
   ]
  },
  {
   "cell_type": "code",
   "execution_count": 20,
   "id": "531462ee",
   "metadata": {},
   "outputs": [
    {
     "name": "stdout",
     "output_type": "stream",
     "text": [
      "Hello, Nicket\n"
     ]
    }
   ],
   "source": [
    "name = input(\"Enter your name: \")\n",
    "print(f\"Hello, {name}\" if name == \"Nicket\" else \"Hello, Stranger\") "
   ]
  },
  {
   "cell_type": "markdown",
   "id": "a5491824",
   "metadata": {},
   "source": [
    "Bitwise Operators (&, |, ^, ~, left shift, right shift)"
   ]
  },
  {
   "cell_type": "code",
   "execution_count": 21,
   "id": "2b67e945",
   "metadata": {},
   "outputs": [],
   "source": [
    "a = 5 # 0101\n",
    "b = 3 # 0011"
   ]
  },
  {
   "cell_type": "code",
   "execution_count": 22,
   "id": "0266783d",
   "metadata": {},
   "outputs": [
    {
     "name": "stdout",
     "output_type": "stream",
     "text": [
      "a & b: 1\n",
      "a | b: 7\n",
      "a ^ b: 6\n",
      "~a: -6\n",
      "a << 1: 10\n",
      "a >> 1: 2\n"
     ]
    }
   ],
   "source": [
    "print(f\"a & b: {a & b}\")   # 0001 = 1\n",
    "print(f\"a | b: {a | b}\")   # 0111 = 7\n",
    "print(f\"a ^ b: {a ^ b}\")   # 0110 = 6\n",
    "print(f\"~a: {~a}\")         # 1010 = -6 (a's complement)\n",
    "print(f\"a << 1: {a << 1}\") # 1010 = 10 (left shift)\n",
    "print(f\"a >> 1: {a >> 1}\") # 0010 = 2 (right shift)"
   ]
  },
  {
   "cell_type": "markdown",
   "id": "5fc3685e",
   "metadata": {},
   "source": [
    "Identity Operators (is, is not)"
   ]
  },
  {
   "cell_type": "code",
   "execution_count": 23,
   "id": "f5391e07",
   "metadata": {},
   "outputs": [],
   "source": [
    "a = 5\n",
    "b = 10"
   ]
  },
  {
   "cell_type": "code",
   "execution_count": 25,
   "id": "784f5d2a",
   "metadata": {},
   "outputs": [
    {
     "name": "stdout",
     "output_type": "stream",
     "text": [
      "False\n",
      "True\n",
      "140720490365992\n",
      "140720490366152\n"
     ]
    }
   ],
   "source": [
    "print(a is b)\n",
    "print(a is not b)\n",
    "\n",
    "print(id(a)) # memory address of a\n",
    "print(id(b)) # memory address of b"
   ]
  },
  {
   "cell_type": "markdown",
   "id": "f8910d3e",
   "metadata": {},
   "source": [
    "Membership Operators (in, not in)"
   ]
  },
  {
   "cell_type": "code",
   "execution_count": 26,
   "id": "a2031215",
   "metadata": {},
   "outputs": [
    {
     "name": "stdout",
     "output_type": "stream",
     "text": [
      "[1, 2, 3, 4, 5]\n"
     ]
    }
   ],
   "source": [
    "nums = [1, 2, 3, 4, 5]\n",
    "print(nums)"
   ]
  },
  {
   "cell_type": "code",
   "execution_count": 27,
   "id": "2e0d149d",
   "metadata": {},
   "outputs": [
    {
     "name": "stdout",
     "output_type": "stream",
     "text": [
      "True\n",
      "True\n"
     ]
    }
   ],
   "source": [
    "print(3 in nums)\n",
    "print(6 not in nums)"
   ]
  }
 ],
 "metadata": {
  "kernelspec": {
   "display_name": "venv",
   "language": "python",
   "name": "python3"
  },
  "language_info": {
   "codemirror_mode": {
    "name": "ipython",
    "version": 3
   },
   "file_extension": ".py",
   "mimetype": "text/x-python",
   "name": "python",
   "nbconvert_exporter": "python",
   "pygments_lexer": "ipython3",
   "version": "3.13.5"
  }
 },
 "nbformat": 4,
 "nbformat_minor": 5
}
