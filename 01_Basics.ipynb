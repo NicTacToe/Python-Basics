{
 "cells": [
  {
   "cell_type": "code",
   "execution_count": null,
   "id": "b7f8d4e4",
   "metadata": {},
   "outputs": [
    {
     "name": "stdout",
     "output_type": "stream",
     "text": [
      "Hello World\n"
     ]
    }
   ],
   "source": [
    "print(\"Hello World\")"
   ]
  },
  {
   "cell_type": "code",
   "execution_count": 62,
   "id": "9449e014",
   "metadata": {},
   "outputs": [
    {
     "name": "stdout",
     "output_type": "stream",
     "text": [
      "30\n"
     ]
    }
   ],
   "source": [
    "a=20\n",
    "a=30\n",
    "print(a)"
   ]
  },
  {
   "cell_type": "code",
   "execution_count": 63,
   "id": "1c5c1850",
   "metadata": {},
   "outputs": [
    {
     "name": "stdout",
     "output_type": "stream",
     "text": [
      "20 \n",
      " 30.55\n"
     ]
    }
   ],
   "source": [
    "a=20\n",
    "b=30.55\n",
    "print(a,\"\\n\",b)"
   ]
  },
  {
   "cell_type": "code",
   "execution_count": 64,
   "id": "e54f607a",
   "metadata": {},
   "outputs": [
    {
     "name": "stdout",
     "output_type": "stream",
     "text": [
      "Hello 170\n"
     ]
    }
   ],
   "source": [
    "name=input('What is your name? ')\n",
    "print(\"Hello \" + name)"
   ]
  },
  {
   "cell_type": "code",
   "execution_count": 67,
   "id": "dbe42561",
   "metadata": {},
   "outputs": [
    {
     "name": "stdout",
     "output_type": "stream",
     "text": [
      "2\n"
     ]
    }
   ],
   "source": [
    "birth_year=input('whats your birth year')\n",
    "age=2025-int(birth_year)\n",
    "print(age)"
   ]
  },
  {
   "cell_type": "code",
   "execution_count": null,
   "id": "4e98aa2f",
   "metadata": {},
   "outputs": [
    {
     "data": {
      "text/plain": [
       "''"
      ]
     },
     "execution_count": 24,
     "metadata": {},
     "output_type": "execute_result"
    }
   ],
   "source": [
    "#types:\n",
    "int()\n",
    "float()\n",
    "bool()\n",
    "str()"
   ]
  },
  {
   "cell_type": "code",
   "execution_count": null,
   "id": "d4ce72ae",
   "metadata": {},
   "outputs": [
    {
     "name": "stdout",
     "output_type": "stream",
     "text": [
      "TESTING PYTHON CODE\n",
      "-1\n",
      "True\n"
     ]
    }
   ],
   "source": [
    "course='Testing python code'\n",
    "print(course.upper())\n",
    "print(course.find(\"  \"))\n",
    "print('Test' in course)"
   ]
  },
  {
   "cell_type": "markdown",
   "id": "e5d36296",
   "metadata": {},
   "source": [
    "Exercise"
   ]
  },
  {
   "cell_type": "code",
   "execution_count": 68,
   "id": "270f2318",
   "metadata": {},
   "outputs": [
    {
     "name": "stdout",
     "output_type": "stream",
     "text": [
      "Jhon Smith\n",
      "20\n",
      "new\n"
     ]
    }
   ],
   "source": [
    "Name=\"Jhon Smith\"\n",
    "age=20\n",
    "patient_type=\"new\"\n",
    "print(Name)\n",
    "print(age)\n",
    "print(patient_type)"
   ]
  },
  {
   "cell_type": "code",
   "execution_count": null,
   "id": "7d19ec2f",
   "metadata": {},
   "outputs": [
    {
     "name": "stdout",
     "output_type": "stream",
     "text": [
      "34.0\n"
     ]
    }
   ],
   "source": [
    "a=input(\"first: \")\n",
    "b=input(\"second: \")\n",
    "print(float(a)+float(b))"
   ]
  }
 ],
 "metadata": {
  "kernelspec": {
   "display_name": "Python 3",
   "language": "python",
   "name": "python3"
  },
  "language_info": {
   "codemirror_mode": {
    "name": "ipython",
    "version": 3
   },
   "file_extension": ".py",
   "mimetype": "text/x-python",
   "name": "python",
   "nbconvert_exporter": "python",
   "pygments_lexer": "ipython3",
   "version": "3.12.10"
  }
 },
 "nbformat": 4,
 "nbformat_minor": 5
}
